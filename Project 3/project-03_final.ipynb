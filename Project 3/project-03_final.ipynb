{
 "cells": [
  {
   "cell_type": "markdown",
   "metadata": {},
   "source": [
    "# Project 03 - Due Monday, November 19 at 1pm\n",
    "\n",
    "*Objectives*: Use Spark to process and perform basic analysis on non-relational data, including its DataFrame and SQL interfaces.\n",
    "\n",
    "*Grading criteria*: The tasks should all be completed, and questions should all be answered with Python code, SQL queries, shell commands, and markdown cells.  The notebook itself should be completely reproducible (using AWS EC2 instance based on the provided AMI) from start to finish; another person should be able to use the code to obtain the same results as yours.  Note that you will receive no more than partial credit if you do not add text/markdown cells explaining your thinking when appropriate.\n",
    "\n",
    "*Attestation*: **Work in groups**.  At the end of your submitted notebook, identify the work each partner performed and attest that each contributed substantially to the work.\n",
    "\n",
    "*Deadline*: Monday, November 19, 1pm.  One member of each group must submit your notebook to Blackboard; you should not submit it separately."
   ]
  },
  {
   "cell_type": "markdown",
   "metadata": {},
   "source": [
    "## Part 1 - Setup\n",
    "\n",
    "Begin by setting up Spark and fetching the project data.  \n",
    "\n",
    "**Note**: you may want to use a larger EC2 instance type than normal.  This project was prepared using a `t2.xlarge` instance.  Just remember that the larger the instance, the higher the per-hour charge, so be sure to remember to shut your instance down when you're done, as always.\n",
    "\n",
    "### About the data\n",
    "\n",
    "We will use JSON data from Twitter; we saw an example of this in class.  It should parse cleanly, allowing you to focus on analysis.\n",
    "\n",
    "This data was gathered using GWU Libraries' [Social Feed Manager](http://sfm.library.gwu.edu/) application during a recent game of the MLB World Series featuring the Los Angeles Dodgers and Boston Red Sox.  This first file tells you a little bit about how it was gathered:"
   ]
  },
  {
   "cell_type": "code",
   "execution_count": 1,
   "metadata": {},
   "outputs": [
    {
     "name": "stdout",
     "output_type": "stream",
     "text": [
      "--2018-11-19 17:11:24--  https://s3.amazonaws.com/2018-dmfa/project-3/ea26ccd641744d4a8dce84de0785186d-README.txt\n",
      "Resolving s3.amazonaws.com (s3.amazonaws.com)... 52.216.84.125\n",
      "Connecting to s3.amazonaws.com (s3.amazonaws.com)|52.216.84.125|:443... connected.\n",
      "HTTP request sent, awaiting response... 200 OK\n",
      "Length: 1145 (1.1K) [text/plain]\n",
      "Saving to: 'ea26ccd641744d4a8dce84de0785186d-README.txt'\n",
      "\n",
      "ea26ccd641744d4a8dc 100%[===================>]   1.12K  --.-KB/s    in 0s      \n",
      "\n",
      "2018-11-19 17:11:24 (83.5 MB/s) - 'ea26ccd641744d4a8dce84de0785186d-README.txt' saved [1145/1145]\n",
      "\n"
     ]
    }
   ],
   "source": [
    "!wget https://s3.amazonaws.com/2018-dmfa/project-3/ea26ccd641744d4a8dce84de0785186d-README.txt"
   ]
  },
  {
   "cell_type": "code",
   "execution_count": 2,
   "metadata": {},
   "outputs": [
    {
     "name": "stdout",
     "output_type": "stream",
     "text": [
      "This is an export created with Social Feed Manager.\n",
      "\n",
      "EXPORT INFORMATION\n",
      "Selected seeds: All seeds\n",
      "Export id: ea26ccd641744d4a8dce84de0785186d\n",
      "Export type: twitter_filter\n",
      "Format: Full JSON\n",
      "Export completed:  Oct. 30, 2018, 9:45:59 a.m. EDT\n",
      "Deduplicate: Yes\n",
      "\n",
      "COLLECTION INFORMATION\n",
      "Collection name: 2018-world-series\n",
      "\n",
      "Collection id: 4e2564448b144915b6a0eb1899075a44\n",
      "Collection set: 2018-mlb-playoffs (collection set id 5a00efa0bddf4be2aa19c6df9788ff6e)\n",
      "Harvest type: Twitter filter\n",
      "\n",
      "Harvest options:\n",
      "\n",
      "Seeds:\n",
      "* Track: dodgers,redsox,red sox,bossox,world series,RedSoxVsDodgers,ladodgers,bostonredsox - Active\n",
      "\n",
      "Change log:\n",
      "\n",
      "Change to 2018-world-series (collection) on Oct. 30, 2018, 8:16:14 a.m. EDT by dchud:\n",
      "Note: Series ended Sunday night after five games, waited ~36 hours.\n",
      "\n",
      "Change to 2018-world-series (collection) on Oct. 23, 2018, 6:01:28 p.m. EDT by dchud:\n",
      "\n",
      "Change to Track: dodgers,redsox,red sox,bossox,world series,RedSoxVsDodgers,ladodgers,bostonredsox (seed) on Oct. 23, 2018, 6:01:18 p.m. EDT by dchud:\n",
      "\n",
      "Change to 2018-world-series (collection) on Oct. 23, 2018, 5:57:45 p.m. EDT by dchud:\n",
      "\n",
      "\n",
      "Created on Oct. 30, 2018, 9:45:59 a.m. EDT\n"
     ]
    }
   ],
   "source": [
    "!cat ea26ccd641744d4a8dce84de0785186d-README.txt"
   ]
  },
  {
   "cell_type": "markdown",
   "metadata": {},
   "source": [
    "The most important pieces in that metadata are:\n",
    "\n",
    " * It tracked tweets that mentioned \"dodgers\" or \"redsox\" and several additional related terms.  Every item in this set should refer to one or more of these terms.\n",
    " * This data was deduplicated; we should not see individual tweets more than once.\n",
    " * Data was collected between October 23 and October 30.  All five games of the Series were played during this time.\n",
    " \n",
    "You should not need to know anything about baseball to complete this assignment, but if you have baseball questions (or Twitter questions!) please ask on the discussion forum.\n",
    "\n",
    "**Please note**: sometimes social media data contains offensive material.  This data set has not been filtered; if you do come across something inappropriate, please do your best to ignore it if you can."
   ]
  },
  {
   "cell_type": "markdown",
   "metadata": {},
   "source": [
    "## Fetch the data\n",
    "\n",
    "The following files are available:\n",
    "\n",
    " * https://s3.amazonaws.com/2018-dmfa/project-3/ea26ccd641744d4a8dce84de0785186d_009.json\n",
    " * https://s3.amazonaws.com/2018-dmfa/project-3/ea26ccd641744d4a8dce84de0785186d_010.json\n",
    " * https://s3.amazonaws.com/2018-dmfa/project-3/ea26ccd641744d4a8dce84de0785186d_011.json\n",
    " * https://s3.amazonaws.com/2018-dmfa/project-3/ea26ccd641744d4a8dce84de0785186d_012.json\n",
    " \n",
    "### Q1.1 - Select at least one and obtain it using `wget`.  Verify the file sizes using the command line.\n",
    "\n",
    "Each file should contain exactly 100,000 tweets.  \n",
    "\n",
    "*Note*: you are only required to use one of these files, but you may use more than one.  It will be easier to process more data if you use a larger EC2 instance type, as suggested above.  Use the exact same set of files throughout the assignment.\n",
    "\n",
    "**Answer**"
   ]
  },
  {
   "cell_type": "code",
   "execution_count": 3,
   "metadata": {},
   "outputs": [
    {
     "name": "stdout",
     "output_type": "stream",
     "text": [
      "--2018-11-19 17:11:31--  https://s3.amazonaws.com/2018-dmfa/project-3/ea26ccd641744d4a8dce84de0785186d_009.json\n",
      "Resolving s3.amazonaws.com (s3.amazonaws.com)... 52.216.162.37\n",
      "Connecting to s3.amazonaws.com (s3.amazonaws.com)|52.216.162.37|:443... connected.\n",
      "HTTP request sent, awaiting response... 200 OK\n",
      "Length: 554277526 (529M) [application/json]\n",
      "Saving to: 'ea26ccd641744d4a8dce84de0785186d_009.json'\n",
      "\n",
      "ea26ccd641744d4a8dc 100%[===================>] 528.60M  16.4MB/s    in 21s     \n",
      "\n",
      "2018-11-19 17:11:52 (25.3 MB/s) - 'ea26ccd641744d4a8dce84de0785186d_009.json' saved [554277526/554277526]\n",
      "\n"
     ]
    }
   ],
   "source": [
    "!wget https://s3.amazonaws.com/2018-dmfa/project-3/ea26ccd641744d4a8dce84de0785186d_009.json"
   ]
  },
  {
   "cell_type": "markdown",
   "metadata": {},
   "source": [
    "For your reference, here is the text of one Tweet, randomly selected from one of these files.  You might wish to study its structure and refer to it later."
   ]
  },
  {
   "cell_type": "code",
   "execution_count": 4,
   "metadata": {
    "collapsed": true
   },
   "outputs": [],
   "source": [
    "!cat *.json | shuf -n 1 > example-tweet.json"
   ]
  },
  {
   "cell_type": "code",
   "execution_count": 5,
   "metadata": {
    "scrolled": false
   },
   "outputs": [
    {
     "name": "stdout",
     "output_type": "stream",
     "text": [
      "{\n",
      "  \"geo\": null,\n",
      "  \"favorited\": false,\n",
      "  \"place\": null,\n",
      "  \"in_reply_to_user_id_str\": null,\n",
      "  \"coordinates\": null,\n",
      "  \"source\": \"<a href=\\\"http://twitter.com/download/iphone\\\" rel=\\\"nofollow\\\">Twitter for iPhone</a>\",\n",
      "  \"id\": 1056753589551538176,\n",
      "  \"retweet_count\": 0,\n",
      "  \"lang\": \"en\",\n",
      "  \"retweeted\": false,\n",
      "  \"text\": \"Ugh Red Sox..\",\n",
      "  \"quote_count\": 0,\n",
      "  \"user\": {\n",
      "    \"screen_name\": \"Carol_Dagny\",\n",
      "    \"profile_link_color\": \"FA743E\",\n",
      "    \"verified\": false,\n",
      "    \"profile_use_background_image\": false,\n",
      "    \"profile_background_image_url\": \"http://abs.twimg.com/images/themes/theme12/bg.gif\",\n",
      "    \"follow_request_sent\": null,\n",
      "    \"profile_image_url_https\": \"https://pbs.twimg.com/profile_images/1013446190107627522/nfrcPldi_normal.jpg\",\n",
      "    \"time_zone\": null,\n",
      "    \"translator_type\": \"none\",\n",
      "    \"id\": 1265692452,\n",
      "    \"favourites_count\": 4263,\n",
      "    \"lang\": \"en\",\n",
      "    \"profile_sidebar_border_color\": \"000000\",\n",
      "    \"location\": \"United States\",\n",
      "    \"followers_count\": 199,\n",
      "    \"profile_background_tile\": false,\n",
      "    \"statuses_count\": 2513,\n",
      "    \"contributors_enabled\": false,\n",
      "    \"following\": null,\n",
      "    \"listed_count\": 6,\n",
      "    \"profile_image_url\": \"http://pbs.twimg.com/profile_images/1013446190107627522/nfrcPldi_normal.jpg\",\n",
      "    \"name\": \"Carol\",\n",
      "    \"profile_sidebar_fill_color\": \"000000\",\n",
      "    \"friends_count\": 160,\n",
      "    \"profile_background_color\": \"000000\",\n",
      "    \"profile_banner_url\": \"https://pbs.twimg.com/profile_banners/1265692452/1525919630\",\n",
      "    \"profile_background_image_url_https\": \"https://abs.twimg.com/images/themes/theme12/bg.gif\",\n",
      "    \"utc_offset\": null,\n",
      "    \"id_str\": \"1265692452\",\n",
      "    \"is_translator\": false,\n",
      "    \"notifications\": null,\n",
      "    \"profile_text_color\": \"000000\",\n",
      "    \"protected\": false,\n",
      "    \"geo_enabled\": true,\n",
      "    \"default_profile_image\": false,\n",
      "    \"created_at\": \"Wed Mar 13 23:30:24 +0000 2013\",\n",
      "    \"description\": \"On a journey to success.\",\n",
      "    \"url\": null,\n",
      "    \"default_profile\": false\n",
      "  },\n",
      "  \"timestamp_ms\": \"1540784663938\",\n",
      "  \"reply_count\": 0,\n",
      "  \"entities\": {\n",
      "    \"user_mentions\": [],\n",
      "    \"symbols\": [],\n",
      "    \"urls\": [],\n",
      "    \"hashtags\": []\n",
      "  },\n",
      "  \"is_quote_status\": false,\n",
      "  \"truncated\": false,\n",
      "  \"favorite_count\": 0,\n",
      "  \"in_reply_to_screen_name\": null,\n",
      "  \"filter_level\": \"low\",\n",
      "  \"in_reply_to_status_id_str\": null,\n",
      "  \"in_reply_to_status_id\": null,\n",
      "  \"id_str\": \"1056753589551538176\",\n",
      "  \"created_at\": \"Mon Oct 29 03:44:23 +0000 2018\",\n",
      "  \"in_reply_to_user_id\": null,\n",
      "  \"contributors\": null\n",
      "}\n"
     ]
    }
   ],
   "source": [
    "import json\n",
    "print(json.dumps(json.load(open(\"example-tweet.json\")), indent=2))"
   ]
  },
  {
   "cell_type": "markdown",
   "metadata": {},
   "source": [
    "You can find several key elements in this example; the text, time, and language of the tweet, whether it was a reply to another user, the user's screen name along with their primary language and other account information like creation date, follower/friend/tweet counts, and perhaps their location.  If there are hashtags, user mentions, or urls present in their tweet, they will be present in the `entities` section; these are not present in every tweet.  If this is a retweet, you will see the original tweet and its information nested within."
   ]
  },
  {
   "cell_type": "markdown",
   "metadata": {},
   "source": [
    "### Q1.2 - Start up Spark, and verify the file sizes."
   ]
  },
  {
   "cell_type": "markdown",
   "metadata": {},
   "source": [
    "We will use our normal startup sequence here:"
   ]
  },
  {
   "cell_type": "code",
   "execution_count": 6,
   "metadata": {
    "collapsed": true
   },
   "outputs": [],
   "source": [
    "import findspark"
   ]
  },
  {
   "cell_type": "code",
   "execution_count": 7,
   "metadata": {
    "collapsed": true
   },
   "outputs": [],
   "source": [
    "findspark.init()"
   ]
  },
  {
   "cell_type": "code",
   "execution_count": 8,
   "metadata": {
    "collapsed": true
   },
   "outputs": [],
   "source": [
    "from pyspark import SparkContext"
   ]
  },
  {
   "cell_type": "code",
   "execution_count": 9,
   "metadata": {
    "collapsed": true
   },
   "outputs": [],
   "source": [
    "spark = SparkContext(appName='project-03')"
   ]
  },
  {
   "cell_type": "code",
   "execution_count": 10,
   "metadata": {},
   "outputs": [
    {
     "data": {
      "text/html": [
       "\n",
       "        <div>\n",
       "            <p><b>SparkContext</b></p>\n",
       "\n",
       "            <p><a href=\"http://ip-172-31-82-222:4040\">Spark UI</a></p>\n",
       "\n",
       "            <dl>\n",
       "              <dt>Version</dt>\n",
       "                <dd><code>v2.3.1</code></dd>\n",
       "              <dt>Master</dt>\n",
       "                <dd><code>local[*]</code></dd>\n",
       "              <dt>AppName</dt>\n",
       "                <dd><code>project-03</code></dd>\n",
       "            </dl>\n",
       "        </div>\n",
       "        "
      ],
      "text/plain": [
       "<SparkContext master=local[*] appName=project-03>"
      ]
     },
     "execution_count": 10,
     "metadata": {},
     "output_type": "execute_result"
    }
   ],
   "source": [
    "spark"
   ]
  },
  {
   "cell_type": "code",
   "execution_count": 11,
   "metadata": {
    "collapsed": true
   },
   "outputs": [],
   "source": [
    "from pyspark import SQLContext"
   ]
  },
  {
   "cell_type": "code",
   "execution_count": 12,
   "metadata": {
    "collapsed": true
   },
   "outputs": [],
   "source": [
    "sqlc = SQLContext(spark)"
   ]
  },
  {
   "cell_type": "code",
   "execution_count": 13,
   "metadata": {},
   "outputs": [
    {
     "data": {
      "text/plain": [
       "<pyspark.sql.context.SQLContext at 0x7f0ae67f4c88>"
      ]
     },
     "execution_count": 13,
     "metadata": {},
     "output_type": "execute_result"
    }
   ],
   "source": [
    "sqlc"
   ]
  },
  {
   "cell_type": "code",
   "execution_count": 14,
   "metadata": {
    "collapsed": true
   },
   "outputs": [],
   "source": [
    "tweets = sqlc.read.json(\"ea26ccd6*.json\")"
   ]
  },
  {
   "cell_type": "markdown",
   "metadata": {},
   "source": [
    "Verify that Spark has loaded the same number of tweets you saw before:\n",
    "\n",
    "**Answer**"
   ]
  },
  {
   "cell_type": "code",
   "execution_count": 15,
   "metadata": {
    "collapsed": true
   },
   "outputs": [
    {
     "name": "stdout",
     "output_type": "stream",
     "text": [
      "100000 ea26ccd641744d4a8dce84de0785186d_009.json\n"
     ]
    }
   ],
   "source": [
    "# The number of tweets should be\n",
    "!wc -l ea26ccd6*.json"
   ]
  },
  {
   "cell_type": "code",
   "execution_count": 16,
   "metadata": {},
   "outputs": [
    {
     "data": {
      "text/plain": [
       "100000"
      ]
     },
     "execution_count": 16,
     "metadata": {},
     "output_type": "execute_result"
    }
   ],
   "source": [
    "# The numbe of tweets Spark has loaded\n",
    "tweets.count()"
   ]
  },
  {
   "cell_type": "markdown",
   "metadata": {},
   "source": [
    "As mentioned above, the number of tweets are 100000."
   ]
  },
  {
   "cell_type": "markdown",
   "metadata": {},
   "source": [
    "## Part 2 - Comparing DataFrames and Spark SQL\n",
    "\n",
    "For the next three questions, we will look at operations using both DataFrames and SQL queries. Note that `tweets` is already a DataFrame:"
   ]
  },
  {
   "cell_type": "code",
   "execution_count": 17,
   "metadata": {},
   "outputs": [
    {
     "data": {
      "text/plain": [
       "DataFrame[contributors: string, coordinates: struct<coordinates:array<double>,type:string>, created_at: string, display_text_range: array<bigint>, entities: struct<hashtags:array<struct<indices:array<bigint>,text:string>>,media:array<struct<additional_media_info:struct<description:string,embeddable:boolean,monetizable:boolean,title:string>,display_url:string,expanded_url:string,id:bigint,id_str:string,indices:array<bigint>,media_url:string,media_url_https:string,sizes:struct<large:struct<h:bigint,resize:string,w:bigint>,medium:struct<h:bigint,resize:string,w:bigint>,small:struct<h:bigint,resize:string,w:bigint>,thumb:struct<h:bigint,resize:string,w:bigint>>,source_status_id:bigint,source_status_id_str:string,source_user_id:bigint,source_user_id_str:string,type:string,url:string>>,symbols:array<struct<indices:array<bigint>,text:string>>,urls:array<struct<display_url:string,expanded_url:string,indices:array<bigint>,url:string>>,user_mentions:array<struct<id:bigint,id_str:string,indices:array<bigint>,name:string,screen_name:string>>>, extended_entities: struct<media:array<struct<additional_media_info:struct<description:string,embeddable:boolean,monetizable:boolean,title:string>,display_url:string,expanded_url:string,id:bigint,id_str:string,indices:array<bigint>,media_url:string,media_url_https:string,sizes:struct<large:struct<h:bigint,resize:string,w:bigint>,medium:struct<h:bigint,resize:string,w:bigint>,small:struct<h:bigint,resize:string,w:bigint>,thumb:struct<h:bigint,resize:string,w:bigint>>,source_status_id:bigint,source_status_id_str:string,source_user_id:bigint,source_user_id_str:string,type:string,url:string,video_info:struct<aspect_ratio:array<bigint>,duration_millis:bigint,variants:array<struct<bitrate:bigint,content_type:string,url:string>>>>>>, extended_tweet: struct<display_text_range:array<bigint>,entities:struct<hashtags:array<struct<indices:array<bigint>,text:string>>,media:array<struct<additional_media_info:struct<description:string,embeddable:boolean,monetizable:boolean,title:string>,description:string,display_url:string,expanded_url:string,id:bigint,id_str:string,indices:array<bigint>,media_url:string,media_url_https:string,sizes:struct<large:struct<h:bigint,resize:string,w:bigint>,medium:struct<h:bigint,resize:string,w:bigint>,small:struct<h:bigint,resize:string,w:bigint>,thumb:struct<h:bigint,resize:string,w:bigint>>,source_status_id:bigint,source_status_id_str:string,source_user_id:bigint,source_user_id_str:string,type:string,url:string,video_info:struct<aspect_ratio:array<bigint>,duration_millis:bigint,variants:array<struct<bitrate:bigint,content_type:string,url:string>>>>>,symbols:array<struct<indices:array<bigint>,text:string>>,urls:array<struct<display_url:string,expanded_url:string,indices:array<bigint>,url:string>>,user_mentions:array<struct<id:bigint,id_str:string,indices:array<bigint>,name:string,screen_name:string>>>,extended_entities:struct<media:array<struct<additional_media_info:struct<description:string,embeddable:boolean,monetizable:boolean,title:string>,description:string,display_url:string,expanded_url:string,id:bigint,id_str:string,indices:array<bigint>,media_url:string,media_url_https:string,sizes:struct<large:struct<h:bigint,resize:string,w:bigint>,medium:struct<h:bigint,resize:string,w:bigint>,small:struct<h:bigint,resize:string,w:bigint>,thumb:struct<h:bigint,resize:string,w:bigint>>,source_status_id:bigint,source_status_id_str:string,source_user_id:bigint,source_user_id_str:string,type:string,url:string,video_info:struct<aspect_ratio:array<bigint>,duration_millis:bigint,variants:array<struct<bitrate:bigint,content_type:string,url:string>>>>>>,full_text:string>, favorite_count: bigint, favorited: boolean, filter_level: string, geo: struct<coordinates:array<double>,type:string>, id: bigint, id_str: string, in_reply_to_screen_name: string, in_reply_to_status_id: bigint, in_reply_to_status_id_str: string, in_reply_to_user_id: bigint, in_reply_to_user_id_str: string, is_quote_status: boolean, lang: string, place: struct<bounding_box:struct<coordinates:array<array<array<double>>>,type:string>,country:string,country_code:string,full_name:string,id:string,name:string,place_type:string,url:string>, possibly_sensitive: boolean, quote_count: bigint, quoted_status: struct<contributors:string,coordinates:struct<coordinates:array<double>,type:string>,created_at:string,display_text_range:array<bigint>,entities:struct<hashtags:array<struct<indices:array<bigint>,text:string>>,media:array<struct<additional_media_info:struct<description:string,embeddable:boolean,monetizable:boolean,title:string>,display_url:string,expanded_url:string,id:bigint,id_str:string,indices:array<bigint>,media_url:string,media_url_https:string,sizes:struct<large:struct<h:bigint,resize:string,w:bigint>,medium:struct<h:bigint,resize:string,w:bigint>,small:struct<h:bigint,resize:string,w:bigint>,thumb:struct<h:bigint,resize:string,w:bigint>>,source_status_id:bigint,source_status_id_str:string,source_user_id:bigint,source_user_id_str:string,type:string,url:string>>,symbols:array<string>,urls:array<struct<display_url:string,expanded_url:string,indices:array<bigint>,url:string>>,user_mentions:array<struct<id:bigint,id_str:string,indices:array<bigint>,name:string,screen_name:string>>>,extended_entities:struct<media:array<struct<additional_media_info:struct<description:string,embeddable:boolean,monetizable:boolean,title:string>,display_url:string,expanded_url:string,id:bigint,id_str:string,indices:array<bigint>,media_url:string,media_url_https:string,sizes:struct<large:struct<h:bigint,resize:string,w:bigint>,medium:struct<h:bigint,resize:string,w:bigint>,small:struct<h:bigint,resize:string,w:bigint>,thumb:struct<h:bigint,resize:string,w:bigint>>,source_status_id:bigint,source_status_id_str:string,source_user_id:bigint,source_user_id_str:string,type:string,url:string,video_info:struct<aspect_ratio:array<bigint>,duration_millis:bigint,variants:array<struct<bitrate:bigint,content_type:string,url:string>>>>>>,extended_tweet:struct<display_text_range:array<bigint>,entities:struct<hashtags:array<struct<indices:array<bigint>,text:string>>,media:array<struct<additional_media_info:struct<description:string,embeddable:boolean,monetizable:boolean,title:string>,display_url:string,expanded_url:string,id:bigint,id_str:string,indices:array<bigint>,media_url:string,media_url_https:string,sizes:struct<large:struct<h:bigint,resize:string,w:bigint>,medium:struct<h:bigint,resize:string,w:bigint>,small:struct<h:bigint,resize:string,w:bigint>,thumb:struct<h:bigint,resize:string,w:bigint>>,source_status_id:bigint,source_status_id_str:string,source_user_id:bigint,source_user_id_str:string,type:string,url:string,video_info:struct<aspect_ratio:array<bigint>,duration_millis:bigint,variants:array<struct<bitrate:bigint,content_type:string,url:string>>>>>,symbols:array<string>,urls:array<struct<display_url:string,expanded_url:string,indices:array<bigint>,url:string>>,user_mentions:array<struct<id:bigint,id_str:string,indices:array<bigint>,name:string,screen_name:string>>>,extended_entities:struct<media:array<struct<additional_media_info:struct<description:string,embeddable:boolean,monetizable:boolean,title:string>,display_url:string,expanded_url:string,id:bigint,id_str:string,indices:array<bigint>,media_url:string,media_url_https:string,sizes:struct<large:struct<h:bigint,resize:string,w:bigint>,medium:struct<h:bigint,resize:string,w:bigint>,small:struct<h:bigint,resize:string,w:bigint>,thumb:struct<h:bigint,resize:string,w:bigint>>,source_status_id:bigint,source_status_id_str:string,source_user_id:bigint,source_user_id_str:string,type:string,url:string,video_info:struct<aspect_ratio:array<bigint>,duration_millis:bigint,variants:array<struct<bitrate:bigint,content_type:string,url:string>>>>>>,full_text:string>,favorite_count:bigint,favorited:boolean,filter_level:string,geo:struct<coordinates:array<double>,type:string>,id:bigint,id_str:string,in_reply_to_screen_name:string,in_reply_to_status_id:bigint,in_reply_to_status_id_str:string,in_reply_to_user_id:bigint,in_reply_to_user_id_str:string,is_quote_status:boolean,lang:string,place:struct<bounding_box:struct<coordinates:array<array<array<double>>>,type:string>,country:string,country_code:string,full_name:string,id:string,name:string,place_type:string,url:string>,possibly_sensitive:boolean,quote_count:bigint,quoted_status_id:bigint,quoted_status_id_str:string,reply_count:bigint,retweet_count:bigint,retweeted:boolean,scopes:struct<followers:boolean>,source:string,text:string,truncated:boolean,user:struct<contributors_enabled:boolean,created_at:string,default_profile:boolean,default_profile_image:boolean,description:string,favourites_count:bigint,follow_request_sent:string,followers_count:bigint,following:string,friends_count:bigint,geo_enabled:boolean,id:bigint,id_str:string,is_translator:boolean,lang:string,listed_count:bigint,location:string,name:string,notifications:string,profile_background_color:string,profile_background_image_url:string,profile_background_image_url_https:string,profile_background_tile:boolean,profile_banner_url:string,profile_image_url:string,profile_image_url_https:string,profile_link_color:string,profile_sidebar_border_color:string,profile_sidebar_fill_color:string,profile_text_color:string,profile_use_background_image:boolean,protected:boolean,screen_name:string,statuses_count:bigint,time_zone:string,translator_type:string,url:string,utc_offset:string,verified:boolean>>, quoted_status_id: bigint, quoted_status_id_str: string, quoted_status_permalink: struct<display:string,expanded:string,url:string>, reply_count: bigint, retweet_count: bigint, retweeted: boolean, retweeted_status: struct<contributors:string,coordinates:struct<coordinates:array<double>,type:string>,created_at:string,display_text_range:array<bigint>,entities:struct<hashtags:array<struct<indices:array<bigint>,text:string>>,media:array<struct<additional_media_info:struct<description:string,embeddable:boolean,monetizable:boolean,title:string>,description:string,display_url:string,expanded_url:string,id:bigint,id_str:string,indices:array<bigint>,media_url:string,media_url_https:string,sizes:struct<large:struct<h:bigint,resize:string,w:bigint>,medium:struct<h:bigint,resize:string,w:bigint>,small:struct<h:bigint,resize:string,w:bigint>,thumb:struct<h:bigint,resize:string,w:bigint>>,source_status_id:bigint,source_status_id_str:string,source_user_id:bigint,source_user_id_str:string,type:string,url:string>>,symbols:array<string>,urls:array<struct<display_url:string,expanded_url:string,indices:array<bigint>,url:string>>,user_mentions:array<struct<id:bigint,id_str:string,indices:array<bigint>,name:string,screen_name:string>>>,extended_entities:struct<media:array<struct<additional_media_info:struct<description:string,embeddable:boolean,monetizable:boolean,title:string>,description:string,display_url:string,expanded_url:string,id:bigint,id_str:string,indices:array<bigint>,media_url:string,media_url_https:string,sizes:struct<large:struct<h:bigint,resize:string,w:bigint>,medium:struct<h:bigint,resize:string,w:bigint>,small:struct<h:bigint,resize:string,w:bigint>,thumb:struct<h:bigint,resize:string,w:bigint>>,source_status_id:bigint,source_status_id_str:string,source_user_id:bigint,source_user_id_str:string,type:string,url:string,video_info:struct<aspect_ratio:array<bigint>,duration_millis:bigint,variants:array<struct<bitrate:bigint,content_type:string,url:string>>>>>>,extended_tweet:struct<display_text_range:array<bigint>,entities:struct<hashtags:array<struct<indices:array<bigint>,text:string>>,media:array<struct<additional_media_info:struct<description:string,embeddable:boolean,monetizable:boolean,title:string>,display_url:string,expanded_url:string,id:bigint,id_str:string,indices:array<bigint>,media_url:string,media_url_https:string,sizes:struct<large:struct<h:bigint,resize:string,w:bigint>,medium:struct<h:bigint,resize:string,w:bigint>,small:struct<h:bigint,resize:string,w:bigint>,thumb:struct<h:bigint,resize:string,w:bigint>>,source_status_id:bigint,source_status_id_str:string,source_user_id:bigint,source_user_id_str:string,type:string,url:string,video_info:struct<aspect_ratio:array<bigint>,duration_millis:bigint,variants:array<struct<bitrate:bigint,content_type:string,url:string>>>>>,symbols:array<struct<indices:array<bigint>,text:string>>,urls:array<struct<display_url:string,expanded_url:string,indices:array<bigint>,url:string>>,user_mentions:array<struct<id:bigint,id_str:string,indices:array<bigint>,name:string,screen_name:string>>>,extended_entities:struct<media:array<struct<additional_media_info:struct<description:string,embeddable:boolean,monetizable:boolean,title:string>,display_url:string,expanded_url:string,id:bigint,id_str:string,indices:array<bigint>,media_url:string,media_url_https:string,sizes:struct<large:struct<h:bigint,resize:string,w:bigint>,medium:struct<h:bigint,resize:string,w:bigint>,small:struct<h:bigint,resize:string,w:bigint>,thumb:struct<h:bigint,resize:string,w:bigint>>,source_status_id:bigint,source_status_id_str:string,source_user_id:bigint,source_user_id_str:string,type:string,url:string,video_info:struct<aspect_ratio:array<bigint>,duration_millis:bigint,variants:array<struct<bitrate:bigint,content_type:string,url:string>>>>>>,full_text:string>,favorite_count:bigint,favorited:boolean,filter_level:string,geo:struct<coordinates:array<double>,type:string>,id:bigint,id_str:string,in_reply_to_screen_name:string,in_reply_to_status_id:bigint,in_reply_to_status_id_str:string,in_reply_to_user_id:bigint,in_reply_to_user_id_str:string,is_quote_status:boolean,lang:string,place:struct<bounding_box:struct<coordinates:array<array<array<double>>>,type:string>,country:string,country_code:string,full_name:string,id:string,name:string,place_type:string,url:string>,possibly_sensitive:boolean,quote_count:bigint,quoted_status:struct<contributors:string,coordinates:struct<coordinates:array<double>,type:string>,created_at:string,display_text_range:array<bigint>,entities:struct<hashtags:array<struct<indices:array<bigint>,text:string>>,media:array<struct<additional_media_info:struct<description:string,embeddable:boolean,monetizable:boolean,title:string>,display_url:string,expanded_url:string,id:bigint,id_str:string,indices:array<bigint>,media_url:string,media_url_https:string,sizes:struct<large:struct<h:bigint,resize:string,w:bigint>,medium:struct<h:bigint,resize:string,w:bigint>,small:struct<h:bigint,resize:string,w:bigint>,thumb:struct<h:bigint,resize:string,w:bigint>>,source_status_id:bigint,source_status_id_str:string,source_user_id:bigint,source_user_id_str:string,type:string,url:string>>,symbols:array<string>,urls:array<struct<display_url:string,expanded_url:string,indices:array<bigint>,url:string>>,user_mentions:array<struct<id:bigint,id_str:string,indices:array<bigint>,name:string,screen_name:string>>>,extended_entities:struct<media:array<struct<additional_media_info:struct<description:string,embeddable:boolean,monetizable:boolean,title:string>,display_url:string,expanded_url:string,id:bigint,id_str:string,indices:array<bigint>,media_url:string,media_url_https:string,sizes:struct<large:struct<h:bigint,resize:string,w:bigint>,medium:struct<h:bigint,resize:string,w:bigint>,small:struct<h:bigint,resize:string,w:bigint>,thumb:struct<h:bigint,resize:string,w:bigint>>,source_status_id:bigint,source_status_id_str:string,source_user_id:bigint,source_user_id_str:string,type:string,url:string,video_info:struct<aspect_ratio:array<bigint>,duration_millis:bigint,variants:array<struct<bitrate:bigint,content_type:string,url:string>>>>>>,extended_tweet:struct<display_text_range:array<bigint>,entities:struct<hashtags:array<struct<indices:array<bigint>,text:string>>,media:array<struct<additional_media_info:struct<description:string,embeddable:boolean,monetizable:boolean,title:string>,display_url:string,expanded_url:string,id:bigint,id_str:string,indices:array<bigint>,media_url:string,media_url_https:string,sizes:struct<large:struct<h:bigint,resize:string,w:bigint>,medium:struct<h:bigint,resize:string,w:bigint>,small:struct<h:bigint,resize:string,w:bigint>,thumb:struct<h:bigint,resize:string,w:bigint>>,source_status_id:bigint,source_status_id_str:string,source_user_id:bigint,source_user_id_str:string,type:string,url:string,video_info:struct<aspect_ratio:array<bigint>,duration_millis:bigint,variants:array<struct<bitrate:bigint,content_type:string,url:string>>>>>,symbols:array<string>,urls:array<struct<display_url:string,expanded_url:string,indices:array<bigint>,url:string>>,user_mentions:array<struct<id:bigint,id_str:string,indices:array<bigint>,name:string,screen_name:string>>>,extended_entities:struct<media:array<struct<additional_media_info:struct<description:string,embeddable:boolean,monetizable:boolean,title:string>,display_url:string,expanded_url:string,id:bigint,id_str:string,indices:array<bigint>,media_url:string,media_url_https:string,sizes:struct<large:struct<h:bigint,resize:string,w:bigint>,medium:struct<h:bigint,resize:string,w:bigint>,small:struct<h:bigint,resize:string,w:bigint>,thumb:struct<h:bigint,resize:string,w:bigint>>,source_status_id:bigint,source_status_id_str:string,source_user_id:bigint,source_user_id_str:string,type:string,url:string,video_info:struct<aspect_ratio:array<bigint>,duration_millis:bigint,variants:array<struct<bitrate:bigint,content_type:string,url:string>>>>>>,full_text:string>,favorite_count:bigint,favorited:boolean,filter_level:string,geo:struct<coordinates:array<double>,type:string>,id:bigint,id_str:string,in_reply_to_screen_name:string,in_reply_to_status_id:bigint,in_reply_to_status_id_str:string,in_reply_to_user_id:bigint,in_reply_to_user_id_str:string,is_quote_status:boolean,lang:string,place:struct<bounding_box:struct<coordinates:array<array<array<double>>>,type:string>,country:string,country_code:string,full_name:string,id:string,name:string,place_type:string,url:string>,possibly_sensitive:boolean,quote_count:bigint,quoted_status_id:bigint,quoted_status_id_str:string,reply_count:bigint,retweet_count:bigint,retweeted:boolean,scopes:struct<followers:boolean>,source:string,text:string,truncated:boolean,user:struct<contributors_enabled:boolean,created_at:string,default_profile:boolean,default_profile_image:boolean,description:string,favourites_count:bigint,follow_request_sent:string,followers_count:bigint,following:string,friends_count:bigint,geo_enabled:boolean,id:bigint,id_str:string,is_translator:boolean,lang:string,listed_count:bigint,location:string,name:string,notifications:string,profile_background_color:string,profile_background_image_url:string,profile_background_image_url_https:string,profile_background_tile:boolean,profile_banner_url:string,profile_image_url:string,profile_image_url_https:string,profile_link_color:string,profile_sidebar_border_color:string,profile_sidebar_fill_color:string,profile_text_color:string,profile_use_background_image:boolean,protected:boolean,screen_name:string,statuses_count:bigint,time_zone:string,translator_type:string,url:string,utc_offset:string,verified:boolean>>,quoted_status_id:bigint,quoted_status_id_str:string,quoted_status_permalink:struct<display:string,expanded:string,url:string>,reply_count:bigint,retweet_count:bigint,retweeted:boolean,scopes:struct<followers:boolean>,source:string,text:string,truncated:boolean,user:struct<contributors_enabled:boolean,created_at:string,default_profile:boolean,default_profile_image:boolean,description:string,favourites_count:bigint,follow_request_sent:string,followers_count:bigint,following:string,friends_count:bigint,geo_enabled:boolean,id:bigint,id_str:string,is_translator:boolean,lang:string,listed_count:bigint,location:string,name:string,notifications:string,profile_background_color:string,profile_background_image_url:string,profile_background_image_url_https:string,profile_background_tile:boolean,profile_banner_url:string,profile_image_url:string,profile_image_url_https:string,profile_link_color:string,profile_sidebar_border_color:string,profile_sidebar_fill_color:string,profile_text_color:string,profile_use_background_image:boolean,protected:boolean,screen_name:string,statuses_count:bigint,time_zone:string,translator_type:string,url:string,utc_offset:string,verified:boolean>>, source: string, text: string, timestamp_ms: string, truncated: boolean, user: struct<contributors_enabled:boolean,created_at:string,default_profile:boolean,default_profile_image:boolean,description:string,favourites_count:bigint,follow_request_sent:string,followers_count:bigint,following:string,friends_count:bigint,geo_enabled:boolean,id:bigint,id_str:string,is_translator:boolean,lang:string,listed_count:bigint,location:string,name:string,notifications:string,profile_background_color:string,profile_background_image_url:string,profile_background_image_url_https:string,profile_background_tile:boolean,profile_banner_url:string,profile_image_url:string,profile_image_url_https:string,profile_link_color:string,profile_sidebar_border_color:string,profile_sidebar_fill_color:string,profile_text_color:string,profile_use_background_image:boolean,protected:boolean,screen_name:string,statuses_count:bigint,time_zone:string,translator_type:string,url:string,utc_offset:string,verified:boolean>]"
      ]
     },
     "execution_count": 17,
     "metadata": {},
     "output_type": "execute_result"
    }
   ],
   "source": [
    "tweets"
   ]
  },
  {
   "cell_type": "markdown",
   "metadata": {},
   "source": [
    "To issue SQL queries, we need to register a table based on `tweets`:"
   ]
  },
  {
   "cell_type": "code",
   "execution_count": 18,
   "metadata": {
    "collapsed": true
   },
   "outputs": [],
   "source": [
    "tweets.createOrReplaceTempView(\"tweets\")"
   ]
  },
  {
   "cell_type": "markdown",
   "metadata": {},
   "source": [
    "### Q2.1 - Which 10 languages are most commonly used in tweets?  Verify your result by executing it with both the dataframe and with SQL.\n",
    "\n",
    "Hint: for the dataframe, use `groupBy`, `count`, and `orderBy`.  See the documentation at https://spark.apache.org/docs/2.3.1/api/python/pyspark.sql.html for details on these and other functions.\n",
    "\n",
    "**Answer**"
   ]
  },
  {
   "cell_type": "markdown",
   "metadata": {},
   "source": [
    "Through both the Python codes and SQL Queries, the 10 most commonly used languages were en(English), es(Spanish), pt(Portuguese), ja(Japanese), fr(French), ko(Korean), en-gb(British English), de(Deutsch), it(Italian) and ru(Russian). "
   ]
  },
  {
   "cell_type": "code",
   "execution_count": 19,
   "metadata": {},
   "outputs": [
    {
     "name": "stdout",
     "output_type": "stream",
     "text": [
      "{\"created_at\": \"Mon Oct 29 03:44:23 +0000 2018\", \"id\": 1056753589551538176, \"id_str\": \"1056753589551538176\", \"text\": \"Ugh Red Sox..\", \"source\": \"<a href=\\\"http://twitter.com/download/iphone\\\" rel=\\\"nofollow\\\">Twitter for iPhone</a>\", \"truncated\": false, \"in_reply_to_status_id\": null, \"in_reply_to_status_id_str\": null, \"in_reply_to_user_id\": null, \"in_reply_to_user_id_str\": null, \"in_reply_to_screen_name\": null, \"user\": {\"id\": 1265692452, \"id_str\": \"1265692452\", \"name\": \"Carol\", \"screen_name\": \"Carol_Dagny\", \"location\": \"United States\", \"url\": null, \"description\": \"On a journey to success.\", \"translator_type\": \"none\", \"protected\": false, \"verified\": false, \"followers_count\": 199, \"friends_count\": 160, \"listed_count\": 6, \"favourites_count\": 4263, \"statuses_count\": 2513, \"created_at\": \"Wed Mar 13 23:30:24 +0000 2013\", \"utc_offset\": null, \"time_zone\": null, \"geo_enabled\": true, \"lang\": \"en\", \"contributors_enabled\": false, \"is_translator\": false, \"profile_background_color\": \"000000\", \"profile_background_image_url\": \"http://abs.twimg.com/images/themes/theme12/bg.gif\", \"profile_background_image_url_https\": \"https://abs.twimg.com/images/themes/theme12/bg.gif\", \"profile_background_tile\": false, \"profile_link_color\": \"FA743E\", \"profile_sidebar_border_color\": \"000000\", \"profile_sidebar_fill_color\": \"000000\", \"profile_text_color\": \"000000\", \"profile_use_background_image\": false, \"profile_image_url\": \"http://pbs.twimg.com/profile_images/1013446190107627522/nfrcPldi_normal.jpg\", \"profile_image_url_https\": \"https://pbs.twimg.com/profile_images/1013446190107627522/nfrcPldi_normal.jpg\", \"profile_banner_url\": \"https://pbs.twimg.com/profile_banners/1265692452/1525919630\", \"default_profile\": false, \"default_profile_image\": false, \"following\": null, \"follow_request_sent\": null, \"notifications\": null}, \"geo\": null, \"coordinates\": null, \"place\": null, \"contributors\": null, \"is_quote_status\": false, \"quote_count\": 0, \"reply_count\": 0, \"retweet_count\": 0, \"favorite_count\": 0, \"entities\": {\"hashtags\": [], \"urls\": [], \"user_mentions\": [], \"symbols\": []}, \"favorited\": false, \"retweeted\": false, \"filter_level\": \"low\", \"lang\": \"en\", \"timestamp_ms\": \"1540784663938\"}\n"
     ]
    }
   ],
   "source": [
    "!head -1 example-tweet.json"
   ]
  },
  {
   "cell_type": "code",
   "execution_count": 20,
   "metadata": {},
   "outputs": [
    {
     "name": "stdout",
     "output_type": "stream",
     "text": [
      "+-----+-----+\n",
      "| lang|count|\n",
      "+-----+-----+\n",
      "|   en|91282|\n",
      "|   es| 7129|\n",
      "|   pt|  604|\n",
      "|   ja|  328|\n",
      "|   fr|  163|\n",
      "|   ko|  146|\n",
      "|en-gb|  100|\n",
      "|   de|   48|\n",
      "|   it|   35|\n",
      "|   ru|   22|\n",
      "+-----+-----+\n",
      "only showing top 10 rows\n",
      "\n"
     ]
    }
   ],
   "source": [
    "tweets.select('user.lang').groupBy('lang').count() \\\n",
    "    .orderBy('count',ascending=False) \\\n",
    "    .show(10)"
   ]
  },
  {
   "cell_type": "code",
   "execution_count": 20,
   "metadata": {},
   "outputs": [
    {
     "name": "stdout",
     "output_type": "stream",
     "text": [
      "+--------+------+\n",
      "|language|counts|\n",
      "+--------+------+\n",
      "|      en| 91282|\n",
      "|      es|  7129|\n",
      "|      pt|   604|\n",
      "|      ja|   328|\n",
      "|      fr|   163|\n",
      "|      ko|   146|\n",
      "|   en-gb|   100|\n",
      "|      de|    48|\n",
      "|      it|    35|\n",
      "|      ru|    22|\n",
      "+--------+------+\n",
      "only showing top 10 rows\n",
      "\n"
     ]
    }
   ],
   "source": [
    "sqlc.sql('''\n",
    "    SELECT user.lang AS language, count(user.lang) AS counts \n",
    "    FROM tweets \n",
    "    GROUP BY user.lang\n",
    "    ORDER BY counts DESC\n",
    "'''\n",
    ").show(10)"
   ]
  },
  {
   "cell_type": "markdown",
   "metadata": {},
   "source": [
    "The results are verified with both the dataframe and SQL."
   ]
  },
  {
   "cell_type": "markdown",
   "metadata": {},
   "source": [
    "### Q2.2 - Which 10 time zones are most common among users?  Verify your result with both the dataframe and SQL.\n",
    "\n",
    "*Note*: for this question, you may leave NULL values present in your results, as a way to help you understand what data is present and what is missing.\n",
    "\n",
    "**Answer**"
   ]
  },
  {
   "cell_type": "markdown",
   "metadata": {},
   "source": [
    "Through both the Python codes and the SQL queries, we found that the both answers only showed the null values even if we wrote the code to show the top 10. "
   ]
  },
  {
   "cell_type": "code",
   "execution_count": 21,
   "metadata": {},
   "outputs": [
    {
     "name": "stdout",
     "output_type": "stream",
     "text": [
      "+---------+------+\n",
      "|time_zone| count|\n",
      "+---------+------+\n",
      "|     null|100000|\n",
      "+---------+------+\n",
      "\n"
     ]
    }
   ],
   "source": [
    "tweets.select('user.time_zone').groupBy('time_zone').count() \\\n",
    "    .orderBy('count',ascending=False) \\\n",
    "    .show(10)"
   ]
  },
  {
   "cell_type": "code",
   "execution_count": 22,
   "metadata": {},
   "outputs": [
    {
     "name": "stdout",
     "output_type": "stream",
     "text": [
      "+---------+------+\n",
      "|time_zone|counts|\n",
      "+---------+------+\n",
      "|     null|100000|\n",
      "+---------+------+\n",
      "\n"
     ]
    }
   ],
   "source": [
    "sqlc.sql('''\n",
    "    SELECT user.time_zone, count(*) AS counts \n",
    "    FROM tweets \n",
    "    GROUP BY user.time_zone\n",
    "    ORDER BY counts DESC\n",
    "'''\n",
    ").show(10)"
   ]
  },
  {
   "cell_type": "markdown",
   "metadata": {},
   "source": [
    "The results are verified with both the dataframe and SQL."
   ]
  },
  {
   "cell_type": "markdown",
   "metadata": {},
   "source": [
    "### Q2.3 - How many tweets mention the Dodgers?  How many mention the Red Sox?  How many mention both?\n",
    "\n",
    "You may use either the dataframe or SQL to answer.  Explain why you have chosen that approach.\n",
    "\n",
    "Hint:  you will want to look at the value of the `text` field.\n",
    "\n",
    "**Answer**"
   ]
  },
  {
   "cell_type": "markdown",
   "metadata": {},
   "source": [
    "We used SQL to approach the question because it's much clear and easier to understand. \n",
    "The Dodgers were mentioned 24555 times and the Red Sox were mentioned 56951 times, and both were mentioned together 5582 times. "
   ]
  },
  {
   "cell_type": "code",
   "execution_count": 23,
   "metadata": {},
   "outputs": [
    {
     "name": "stdout",
     "output_type": "stream",
     "text": [
      "+--------+\n",
      "|D_counts|\n",
      "+--------+\n",
      "|   24555|\n",
      "+--------+\n",
      "\n"
     ]
    }
   ],
   "source": [
    "sqlc.sql('''\n",
    "    SELECT count(text) AS D_counts\n",
    "    FROM tweets \n",
    "    WHERE lower(text) like '%dodgers%'\n",
    "'''\n",
    ").show()"
   ]
  },
  {
   "cell_type": "code",
   "execution_count": 24,
   "metadata": {},
   "outputs": [
    {
     "name": "stdout",
     "output_type": "stream",
     "text": [
      "+--------+\n",
      "|R_counts|\n",
      "+--------+\n",
      "|   56951|\n",
      "+--------+\n",
      "\n"
     ]
    }
   ],
   "source": [
    "sqlc.sql('''\n",
    "    SELECT count(text) AS R_counts\n",
    "    FROM tweets \n",
    "    WHERE lower(text) like '%red sox%' or lower(text) like '%redsox%'\n",
    "'''\n",
    ").show()"
   ]
  },
  {
   "cell_type": "code",
   "execution_count": 25,
   "metadata": {},
   "outputs": [
    {
     "name": "stdout",
     "output_type": "stream",
     "text": [
      "+-----------+\n",
      "|both_counts|\n",
      "+-----------+\n",
      "|       5582|\n",
      "+-----------+\n",
      "\n"
     ]
    }
   ],
   "source": [
    "sqlc.sql('''\n",
    "    SELECT count(text) AS both_counts\n",
    "    FROM tweets \n",
    "    WHERE lower(text) like '%dodgers%' and (lower(text) like '%red sox%' or lower(text) like '%redsox%')\n",
    "'''\n",
    ").show()"
   ]
  },
  {
   "cell_type": "markdown",
   "metadata": {},
   "source": [
    "## Part 3 - More complex queries\n",
    "\n",
    "For this section, you may choose to use dataframe queries or SQL.  If you wish, you may verify results by using both, as in Part 2, but this is not required for this section.\n",
    "\n",
    "### Q3.1 - Team mentions by location\n",
    "\n",
    "In which users' locations are the Red Sox and the Dodgers being mentioned the most?  Consider each team separately, one at a time.  Discuss your findings.\n",
    "\n",
    "Hint:  you may use either the time zones or user-specified locations for this question.\n",
    "\n",
    "**Answer**"
   ]
  },
  {
   "cell_type": "markdown",
   "metadata": {},
   "source": [
    "We used the SQL to solve the questions and used the user-specified locations to find the answer, as we believe that it'd show a more direct answer in terms of the location, compared to the time zones. According to the result, both of the teams were most mentioned within their hometowns, Los Angeles for the Dodgers and Boston for the Red Sox. "
   ]
  },
  {
   "cell_type": "code",
   "execution_count": 27,
   "metadata": {
    "collapsed": true
   },
   "outputs": [
    {
     "name": "stdout",
     "output_type": "stream",
     "text": [
      "+-----+---------------+\n",
      "|count|       location|\n",
      "+-----+---------------+\n",
      "|  765|Los Angeles, CA|\n",
      "+-----+---------------+\n",
      "only showing top 1 row\n",
      "\n"
     ]
    }
   ],
   "source": [
    "sqlc.sql('''\n",
    "    SELECT count(user.location) AS count, user.location\n",
    "    FROM tweets\n",
    "    WHERE lower(text) like '%dodgers%'\n",
    "    GROUP BY user.location\n",
    "    ORDER BY count DESC\n",
    "'''\n",
    ").show(1)"
   ]
  },
  {
   "cell_type": "code",
   "execution_count": 28,
   "metadata": {},
   "outputs": [
    {
     "name": "stdout",
     "output_type": "stream",
     "text": [
      "+-----+----------+\n",
      "|count|  location|\n",
      "+-----+----------+\n",
      "| 1808|Boston, MA|\n",
      "+-----+----------+\n",
      "only showing top 1 row\n",
      "\n"
     ]
    }
   ],
   "source": [
    "sqlc.sql('''\n",
    "    SELECT count(user.location) AS count, user.location\n",
    "    FROM tweets\n",
    "    WHERE lower(text) like '%red sox%' or lower(text) like '%redsox%'\n",
    "    GROUP BY user.location\n",
    "    ORDER BY count DESC\n",
    "'''\n",
    ").show(1)"
   ]
  },
  {
   "cell_type": "markdown",
   "metadata": {},
   "source": [
    "### Q3.2 - Which Twitter users are being replied to the most?\n",
    "\n",
    "Discuss your findings.\n",
    "\n",
    "Hint: use the top-level `in_reply_to_screen_name` for this.\n",
    "\n",
    "**Answer**"
   ]
  },
  {
   "cell_type": "markdown",
   "metadata": {},
   "source": [
    "When looking at the top ten most replied Tweeter Users, we found that the RedSox, Dodgers, MLB and DodgersNation are replied the most, especially the Red Sox and Dodgers being populer compared to the other users in manifold. Other baseball related Twitter users that were popular were users such as MLB, DodgersNation, Rangers and MLBStatoftheDay and the Red Sox player David Price. Another interesting thing about the results were that the ESPN commentator Ernesto Jerez was one of the most popular Twitter users being replied to. \n"
   ]
  },
  {
   "cell_type": "code",
   "execution_count": 29,
   "metadata": {
    "collapsed": true
   },
   "outputs": [
    {
     "name": "stdout",
     "output_type": "stream",
     "text": [
      "+-----+---------------+\n",
      "|count|           name|\n",
      "+-----+---------------+\n",
      "| 1360|         RedSox|\n",
      "|  814|        Dodgers|\n",
      "|  163|            MLB|\n",
      "|  101|  DodgersNation|\n",
      "|   77| DonnieWahlberg|\n",
      "|   75|   DAVIDprice24|\n",
      "|   59|        Rangers|\n",
      "|   52|     EJerezESPN|\n",
      "|   43|MLBStatoftheDay|\n",
      "|   42|     VeniceMase|\n",
      "+-----+---------------+\n",
      "only showing top 10 rows\n",
      "\n"
     ]
    }
   ],
   "source": [
    "sqlc.sql('''\n",
    "    SELECT count(in_reply_to_screen_name) AS count, in_reply_to_screen_name AS name\n",
    "    FROM tweets\n",
    "    GROUP BY name\n",
    "    ORDER BY count DESC\n",
    "'''\n",
    ").show(10)"
   ]
  },
  {
   "cell_type": "markdown",
   "metadata": {},
   "source": [
    "### Q3.3 - Which 10 verified users have the most followers?  Which 10 unverified users have the most followers?\n",
    "\n",
    "Provide both the screen names and follower counts for each.\n",
    "\n",
    "Discuss your findings.\n",
    "\n",
    "**Answer**"
   ]
  },
  {
   "cell_type": "markdown",
   "metadata": {},
   "source": [
    "There were many duplicates of user_id with different followers_counts. So we take the maximum of folowers_count as their unique value."
   ]
  },
  {
   "cell_type": "markdown",
   "metadata": {},
   "source": [
    "Top ten verified users that have the most followers are as follows. There were journalists like Lopez Doriga and professional basketball player like Magic Johnson and the late Stan Lee in terms of personal verified users. For business accounts, there were the MLB, major mexican newspaper like El Universal."
   ]
  },
  {
   "cell_type": "code",
   "execution_count": 30,
   "metadata": {
    "collapsed": true
   },
   "outputs": [
    {
     "name": "stdout",
     "output_type": "stream",
     "text": [
      "+---------------+--------------------+\n",
      "|    screen_name|max(followers_count)|\n",
      "+---------------+--------------------+\n",
      "|            MLB|             8296241|\n",
      "|    lopezdoriga|             7678758|\n",
      "|El_Universal_Mx|             4836985|\n",
      "|   MagicJohnson|             4685432|\n",
      "|        Milenio|             4165323|\n",
      "|    MarketWatch|             3611461|\n",
      "| TheRealStanLee|             3340350|\n",
      "|       Newsweek|             3324621|\n",
      "|  NateSilver538|             3156640|\n",
      "|          Migos|             2556415|\n",
      "+---------------+--------------------+\n",
      "only showing top 10 rows\n",
      "\n"
     ]
    }
   ],
   "source": [
    "tweets.filter('user.verified == true') \\\n",
    "    .select('user.screen_name', 'user.followers_count') \\\n",
    "    .groupBy('screen_name').max() \\\n",
    "    .orderBy('max(followers_count)', ascending=False) \\\n",
    "    .show(10)"
   ]
  },
  {
   "cell_type": "markdown",
   "metadata": {},
   "source": [
    "Top ten unverified users that have the most followers are as follows. It was interesting to see that several of them were sports-related accounts."
   ]
  },
  {
   "cell_type": "code",
   "execution_count": 31,
   "metadata": {},
   "outputs": [
    {
     "name": "stdout",
     "output_type": "stream",
     "text": [
      "+---------------+--------------------+\n",
      "|    screen_name|max(followers_count)|\n",
      "+---------------+--------------------+\n",
      "|   DRJAMESCABOT|             2185433|\n",
      "|       PAMsLOvE|              688117|\n",
      "| mlbtraderumors|              666915|\n",
      "| Miguel_Gurwitz|              568885|\n",
      "|        ruleiro|              520622|\n",
      "| RealKentMurphy|              443846|\n",
      "|thebrittanyxoxo|              325224|\n",
      "|FakeSportsCentr|              318999|\n",
      "|    CelticsLife|              296296|\n",
      "|    milenagimon|              226625|\n",
      "+---------------+--------------------+\n",
      "only showing top 10 rows\n",
      "\n"
     ]
    }
   ],
   "source": [
    "tweets.filter('user.verified == false') \\\n",
    "    .select('user.screen_name', 'user.followers_count') \\\n",
    "    .groupBy('screen_name').max() \\\n",
    "    .orderBy('max(followers_count)', ascending=False) \\\n",
    "    .show(10)"
   ]
  },
  {
   "cell_type": "markdown",
   "metadata": {},
   "source": [
    "### Q3.4 - What are the most popular sets of hashtags among users with many followers?  Are they the same as among users with few followers?\n",
    "\n",
    "Decide for yourself exactly how many followers you believe to be \"many\", and explain your decision.  You may use queries and statistics to support this decision if you wish.\n",
    "\n",
    "Hint: if your sample tweet above does not include hashtags under the `entities` field, generate a new example by running the `shuf` command again until you find one that does.\n",
    "\n",
    "Hint 2: the hashtag texts will be in an array, so you may need some functions you haven't used before.  If you're using SQL, see the docs for [Hive SQL](https://docs.treasuredata.com/articles/hive-functions) for details, (and consider `CONCAT_WS`, for example).\n",
    "\n",
    "Discuss your findings.\n",
    "\n",
    "**Answer**"
   ]
  },
  {
   "cell_type": "markdown",
   "metadata": {},
   "source": [
    "We ranked all users according to their followers count, and defined the top 25% as the most-followed users and the last 25% as the least-followed users."
   ]
  },
  {
   "cell_type": "code",
   "execution_count": 32,
   "metadata": {},
   "outputs": [
    {
     "name": "stdout",
     "output_type": "stream",
     "text": [
      "+-------+----------------+\n",
      "|summary| followers_count|\n",
      "+-------+----------------+\n",
      "|  count|          100000|\n",
      "|   mean|      4104.94204|\n",
      "| stddev|85071.9871101182|\n",
      "|    min|               0|\n",
      "|    max|         8296241|\n",
      "+-------+----------------+\n",
      "\n"
     ]
    },
    {
     "data": {
      "text/plain": [
       "[141.0, 803.0]"
      ]
     },
     "execution_count": 32,
     "metadata": {},
     "output_type": "execute_result"
    }
   ],
   "source": [
    "tweets.describe('user.followers_count').show()\n",
    "tweets.select(\"user.followers_count\").approxQuantile(\"followers_count\", [0.25, 0.75], 0.00)"
   ]
  },
  {
   "cell_type": "markdown",
   "metadata": {},
   "source": [
    "This gives us the the result of 141 and 803 for the two outputs. "
   ]
  },
  {
   "cell_type": "markdown",
   "metadata": {},
   "source": [
    "Most followed users"
   ]
  },
  {
   "cell_type": "code",
   "execution_count": 33,
   "metadata": {},
   "outputs": [
    {
     "name": "stdout",
     "output_type": "stream",
     "text": [
      "+------+-----+\n",
      "|    ht|count|\n",
      "+------+-----+\n",
      "|RedSox| 1228|\n",
      "+------+-----+\n",
      "only showing top 1 row\n",
      "\n"
     ]
    }
   ],
   "source": [
    "sqlc.sql('''\n",
    "        select concat_ws(' ',entities.hashtags['text']) as ht,count(concat_ws(' ',entities.hashtags['text'])) as count\n",
    "        from tweets\n",
    "        where size(entities.hashtags) != 0\n",
    "        and user.followers_count > 803\n",
    "        group by ht\n",
    "        order by count(concat_ws(' ',entities.hashtags['text'])) desc\n",
    "        ''').show(1)"
   ]
  },
  {
   "cell_type": "markdown",
   "metadata": {},
   "source": [
    "Less followed Users"
   ]
  },
  {
   "cell_type": "code",
   "execution_count": 34,
   "metadata": {},
   "outputs": [
    {
     "name": "stdout",
     "output_type": "stream",
     "text": [
      "+-----------+-----+\n",
      "|         ht|count|\n",
      "+-----------+-----+\n",
      "|WorldSeries| 1112|\n",
      "+-----------+-----+\n",
      "only showing top 1 row\n",
      "\n"
     ]
    }
   ],
   "source": [
    "sqlc.sql('''\n",
    "        select concat_ws(' ',entities.hashtags['text']) as ht,count(concat_ws(' ',entities.hashtags['text'])) as count\n",
    "        from tweets\n",
    "        where size(entities.hashtags) != 0\n",
    "        and user.followers_count < 141\n",
    "        group by ht\n",
    "        order by count(concat_ws(' ',entities.hashtags['text'])) desc\n",
    "        ''').show(1)"
   ]
  },
  {
   "cell_type": "markdown",
   "metadata": {},
   "source": [
    "### Q3.5 - Analyze common words in tweet text\n",
    "\n",
    "Following the example in class, use `tweets.rdd` to find the most common interesting words in tweet text.  To keep it \"interesting\", add a filter that removes at least 10 common stop words found in tweets, like \"a\", \"an\", \"the\", and \"RT\" (you might want to derive these stop words from initial results).  To split lines into words, a simple split on text whitespace like we had in class is sufficient; you do not have to account for punctuation.\n",
    "\n",
    "After you find the most common words, use dataframe or SQL queries to find patterns among how those words are used.  For example, are they more frequently used by Dodgers or Red Sox fans, or by people in one part of the country over another?  Explore and see what you can find, and discuss your findings.\n",
    "\n",
    "Hint: don't forget all the word count pipeline steps we used earlier in class.\n",
    "\n",
    "**Answer**"
   ]
  },
  {
   "cell_type": "code",
   "execution_count": 35,
   "metadata": {
    "collapsed": true
   },
   "outputs": [
    {
     "data": {
      "text/plain": [
       "[('RT', 53854),\n",
       " ('the', 48325),\n",
       " ('to', 21653),\n",
       " ('a', 21226),\n",
       " ('World', 16829),\n",
       " ('Red', 14855),\n",
       " ('@RedSox:', 14766),\n",
       " ('in', 13992),\n",
       " ('Sox', 13374),\n",
       " ('Series', 12775)]"
      ]
     },
     "execution_count": 35,
     "metadata": {},
     "output_type": "execute_result"
    }
   ],
   "source": [
    "tweets.rdd.flatMap(lambda r: r['text'].split(' ')) \\\n",
    "    .map(lambda t: (t, 1)) \\\n",
    "    .reduceByKey(lambda a, b: a + b) \\\n",
    "    .takeOrdered(10, key=lambda pair: -pair[1])"
   ]
  },
  {
   "cell_type": "markdown",
   "metadata": {},
   "source": [
    "Removing the stop words"
   ]
  },
  {
   "cell_type": "code",
   "execution_count": 36,
   "metadata": {},
   "outputs": [
    {
     "name": "stdout",
     "output_type": "stream",
     "text": [
      "39905\tredsox\n",
      "24456\tdodgers\n",
      "24254\tseries\n",
      "23631\tworld\n",
      "19968\tsox\n",
      "18769\tred\n",
      "13045\tworldseries\n",
      "9152\tare\n",
      "8379\tboston\n",
      "7958\ton\n"
     ]
    }
   ],
   "source": [
    "import re\n",
    "stopwords = [\"RT\", \"the\",\"to\",\"a\",\"THE\",\"for\",\"in\",\"is\",\"I\",\"of\",\"and\",\"i\",\"this\",\"rt\"]\n",
    "wordlist = tweets.rdd.flatMap(lambda r: r['text'].lower().split(' ')) \\\n",
    "    .map(lambda t: re.sub(r'[^a-z0-9]', '', t)) \\\n",
    "    .filter(lambda t: t not in stopwords) \\\n",
    "    .filter(lambda t: len(t) > 0) \\\n",
    "    .map(lambda t: (t, 1)) \\\n",
    "    .reduceByKey(lambda a, b: a + b) \\\n",
    "    .takeOrdered(10, key = lambda pair: -pair[1])\n",
    "for wordtext, count in wordlist:\n",
    "    print(\"{}\\t{}\".format(count, wordtext))"
   ]
  },
  {
   "cell_type": "code",
   "execution_count": 37,
   "metadata": {},
   "outputs": [
    {
     "data": {
      "text/plain": [
       "['redsox',\n",
       " 'dodgers',\n",
       " 'series',\n",
       " 'world',\n",
       " 'sox',\n",
       " 'red',\n",
       " 'worldseries',\n",
       " 'are',\n",
       " 'boston',\n",
       " 'on']"
      ]
     },
     "execution_count": 37,
     "metadata": {},
     "output_type": "execute_result"
    }
   ],
   "source": [
    "listword=[x[0] for x in wordlist]\n",
    "listword"
   ]
  },
  {
   "cell_type": "markdown",
   "metadata": {},
   "source": [
    "For the analysis part, we explored every common word used in different countries. We found that all of the common words are mentioned most in United States, Canada and Mexico. People in these three countries discussed a lot about them. The United States had the outstanding number of tweets containing the common word, and then came Canada and several countries in the Central America. "
   ]
  },
  {
   "cell_type": "code",
   "execution_count": 38,
   "metadata": {},
   "outputs": [
    {
     "name": "stdout",
     "output_type": "stream",
     "text": [
      "redsox\n",
      "+--------------+-----+\n",
      "|       country|count|\n",
      "+--------------+-----+\n",
      "| United States|  201|\n",
      "|        Canada|    6|\n",
      "|Estados Unidos|    4|\n",
      "|     Guatemala|    2|\n",
      "|        México|    2|\n",
      "|           USA|    1|\n",
      "|        Mexico|    1|\n",
      "|         Aruba|    1|\n",
      "|    Costa Rica|    1|\n",
      "|United Kingdom|    1|\n",
      "+--------------+-----+\n",
      "only showing top 10 rows\n",
      "\n",
      "dodgers\n",
      "+------------------+-----+\n",
      "|           country|count|\n",
      "+------------------+-----+\n",
      "|     United States|  250|\n",
      "|            Canada|    5|\n",
      "|            México|    5|\n",
      "|Dominican Republic|    2|\n",
      "|            Mexico|    1|\n",
      "|                  |    1|\n",
      "+------------------+-----+\n",
      "\n",
      "series\n",
      "+--------------------+-----+\n",
      "|             country|count|\n",
      "+--------------------+-----+\n",
      "|       United States|  226|\n",
      "|              Canada|    6|\n",
      "|              Mexico|    3|\n",
      "|              Brazil|    2|\n",
      "|   Republic of Korea|    1|\n",
      "|              Italia|    1|\n",
      "|Republic of the P...|    1|\n",
      "|      Estados Unidos|    1|\n",
      "|  Dominican Republic|    1|\n",
      "|            Honduras|    1|\n",
      "+--------------------+-----+\n",
      "only showing top 10 rows\n",
      "\n",
      "world\n",
      "+--------------------+-----+\n",
      "|             country|count|\n",
      "+--------------------+-----+\n",
      "|       United States|  183|\n",
      "|              Canada|    6|\n",
      "|              Mexico|    3|\n",
      "|              Italia|    1|\n",
      "|   Republic of Korea|    1|\n",
      "|Republic of the P...|    1|\n",
      "|              Brazil|    1|\n",
      "|      Estados Unidos|    1|\n",
      "|            Honduras|    1|\n",
      "|  Dominican Republic|    1|\n",
      "+--------------------+-----+\n",
      "only showing top 10 rows\n",
      "\n",
      "sox\n",
      "+-------------------+-----+\n",
      "|            country|count|\n",
      "+-------------------+-----+\n",
      "|      United States|  265|\n",
      "|             Canada|    8|\n",
      "|             México|    8|\n",
      "|     Estados Unidos|    5|\n",
      "|Trinidad and Tobago|    3|\n",
      "|             Mexico|    2|\n",
      "|          Guatemala|    2|\n",
      "| Dominican Republic|    2|\n",
      "|                USA|    1|\n",
      "|              Aruba|    1|\n",
      "+-------------------+-----+\n",
      "only showing top 10 rows\n",
      "\n",
      "red\n",
      "+------------------+-----+\n",
      "|           country|count|\n",
      "+------------------+-----+\n",
      "|     United States|  295|\n",
      "|            Canada|   10|\n",
      "|    Estados Unidos|    5|\n",
      "|            México|    3|\n",
      "|         Guatemala|    2|\n",
      "|               USA|    1|\n",
      "|            Mexico|    1|\n",
      "|             Aruba|    1|\n",
      "|Dominican Republic|    1|\n",
      "|    United Kingdom|    1|\n",
      "+------------------+-----+\n",
      "only showing top 10 rows\n",
      "\n",
      "worldseries\n",
      "+------------------+-----+\n",
      "|           country|count|\n",
      "+------------------+-----+\n",
      "|     United States|  108|\n",
      "|            Canada|    4|\n",
      "|            Mexico|    2|\n",
      "|          Honduras|    1|\n",
      "|Dominican Republic|    1|\n",
      "|            Brasil|    1|\n",
      "|            México|    1|\n",
      "|         Australia|    1|\n",
      "+------------------+-----+\n",
      "\n",
      "are\n",
      "+------------------+-----+\n",
      "|           country|count|\n",
      "+------------------+-----+\n",
      "|     United States|  308|\n",
      "|            Canada|   10|\n",
      "|            México|    2|\n",
      "|    Estados Unidos|    2|\n",
      "|             India|    2|\n",
      "|            Mexico|    2|\n",
      "|    United Kingdom|    2|\n",
      "|         Guatemala|    1|\n",
      "|Dominican Republic|    1|\n",
      "|          Honduras|    1|\n",
      "+------------------+-----+\n",
      "only showing top 10 rows\n",
      "\n",
      "boston\n",
      "+-------------+-----+\n",
      "|      country|count|\n",
      "+-------------+-----+\n",
      "|United States|   17|\n",
      "|       Canada|    1|\n",
      "+-------------+-----+\n",
      "\n",
      "on\n",
      "+------------------+-----+\n",
      "|           country|count|\n",
      "+------------------+-----+\n",
      "|     United States| 1489|\n",
      "|            México|   60|\n",
      "|            Canada|   59|\n",
      "|    Estados Unidos|   14|\n",
      "|            Mexico|   12|\n",
      "|Dominican Republic|   11|\n",
      "|            Brasil|    7|\n",
      "|         Guatemala|    6|\n",
      "|          Colombia|    5|\n",
      "|         Venezuela|    4|\n",
      "+------------------+-----+\n",
      "only showing top 10 rows\n",
      "\n"
     ]
    }
   ],
   "source": [
    "for wordtext in listword:\n",
    "    s='text like \"%'+wordtext+'%\"'\n",
    "    #print(s)\n",
    "    print(wordtext)\n",
    "    tweets.select('place.country').filter(s+'and country is not null').groupBy('country').count().orderBy('count',ascending=False).show(10)    \n",
    "    #print(\"{}\\t{}\".format(count, wordtext))"
   ]
  }
 ],
 "metadata": {
  "kernelspec": {
   "display_name": "Python 3",
   "language": "python",
   "name": "python3"
  },
  "language_info": {
   "codemirror_mode": {
    "name": "ipython",
    "version": 3
   },
   "file_extension": ".py",
   "mimetype": "text/x-python",
   "name": "python",
   "nbconvert_exporter": "python",
   "pygments_lexer": "ipython3",
   "version": "3.6.5"
  }
 },
 "nbformat": 4,
 "nbformat_minor": 2
}
