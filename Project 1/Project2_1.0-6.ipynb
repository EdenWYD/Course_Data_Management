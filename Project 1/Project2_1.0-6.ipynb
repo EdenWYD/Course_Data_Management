{
 "cells": [
  {
   "cell_type": "markdown",
   "metadata": {},
   "source": [
    "First, use PostgreSQL's dropdb command to drop the database named proj2, if it exists."
   ]
  },
  {
   "cell_type": "markdown",
   "metadata": {},
   "source": [
    "## Part 3"
   ]
  },
  {
   "cell_type": "code",
   "execution_count": 1,
   "metadata": {},
   "outputs": [],
   "source": [
    "!dropdb -U student proj2"
   ]
  },
  {
   "cell_type": "markdown",
   "metadata": {},
   "source": [
    "Now use PostgreSQL's createdb command to create the database named proj2."
   ]
  },
  {
   "cell_type": "code",
   "execution_count": 2,
   "metadata": {},
   "outputs": [],
   "source": [
    "!createdb -U student proj2"
   ]
  },
  {
   "cell_type": "code",
   "execution_count": 3,
   "metadata": {},
   "outputs": [],
   "source": [
    "%load_ext sql"
   ]
  },
  {
   "cell_type": "code",
   "execution_count": 4,
   "metadata": {},
   "outputs": [
    {
     "data": {
      "text/plain": [
       "'Connected: student@proj2'"
      ]
     },
     "execution_count": 4,
     "metadata": {},
     "output_type": "execute_result"
    }
   ],
   "source": [
    "%sql postgresql://student@/proj2"
   ]
  },
  {
   "cell_type": "code",
   "execution_count": 5,
   "metadata": {},
   "outputs": [
    {
     "name": "stdout",
     "output_type": "stream",
     "text": [
      "--2018-10-12 18:13:06--  https://s3.amazonaws.com/dmfa-2017/bike_stations.csv\n",
      "Resolving s3.amazonaws.com (s3.amazonaws.com)... 52.216.82.99\n",
      "Connecting to s3.amazonaws.com (s3.amazonaws.com)|52.216.82.99|:443... connected.\n",
      "HTTP request sent, awaiting response... 200 OK\n",
      "Length: 169879 (166K) [text/csv]\n",
      "Saving to: ‘file.csv’\n",
      "\n",
      "file.csv            100%[===================>] 165.90K  --.-KB/s    in 0.004s  \n",
      "\n",
      "2018-10-12 18:13:07 (40.9 MB/s) - ‘file.csv’ saved [169879/169879]\n",
      "\n"
     ]
    }
   ],
   "source": [
    "!wget -O file.csv https://s3.amazonaws.com/dmfa-2017/bike_stations.csv"
   ]
  },
  {
   "cell_type": "markdown",
   "metadata": {},
   "source": [
    "First, we take a look at a sample of the data to determine its attributes' domains and ranges."
   ]
  },
  {
   "cell_type": "markdown",
   "metadata": {},
   "source": [
    "Based on these values, we expect we can work with the following:"
   ]
  },
  {
   "cell_type": "markdown",
   "metadata": {},
   "source": [
    "__1.Members__"
   ]
  },
  {
   "cell_type": "code",
   "execution_count": 6,
   "metadata": {},
   "outputs": [
    {
     "name": "stdout",
     "output_type": "stream",
     "text": [
      " * postgresql://student@/proj2\n",
      "Done.\n",
      "Done.\n"
     ]
    },
    {
     "data": {
      "text/plain": [
       "[]"
      ]
     },
     "execution_count": 6,
     "metadata": {},
     "output_type": "execute_result"
    }
   ],
   "source": [
    "%%sql\n",
    "\n",
    "DROP TABLE IF EXISTS Members;\n",
    "\n",
    "CREATE TABLE Members (\n",
    "    SSN      VARCHAR(20) NOT NULL PRIMARY KEY,\n",
    "    Name     VARCHAR(60) NOT NULL, \n",
    "    Address  VARCHAR(60) NOT NULL\n",
    "); "
   ]
  },
  {
   "cell_type": "code",
   "execution_count": 7,
   "metadata": {},
   "outputs": [
    {
     "name": "stdout",
     "output_type": "stream",
     "text": [
      " * postgresql://student@/proj2\n",
      "Done.\n",
      "Done.\n"
     ]
    },
    {
     "data": {
      "text/plain": [
       "[]"
      ]
     },
     "execution_count": 7,
     "metadata": {},
     "output_type": "execute_result"
    }
   ],
   "source": [
    "%%sql\n",
    "\n",
    "DROP TABLE IF EXISTS Memberships;\n",
    "\n",
    "CREATE TABLE Memberships (\n",
    "    Key_ID      INTEGER NOT NULL PRIMARY KEY,\n",
    "    SSN         VARCHAR(20) NOT NULL REFERENCES Members,\n",
    "    Type        VARCHAR(20) CHECK (Type in ('annual','semiannual','monthly')),  \n",
    "    Status      CHAR(10) CHECK (status in ('active','inactive') ) ,\n",
    "    Start_Date  Date NOT NULL,\n",
    "    End_Date    Date NOT NULL\n",
    "); "
   ]
  },
  {
   "cell_type": "code",
   "execution_count": 8,
   "metadata": {},
   "outputs": [
    {
     "name": "stdout",
     "output_type": "stream",
     "text": [
      " * postgresql://student@/proj2\n",
      "Done.\n",
      "Done.\n"
     ]
    },
    {
     "data": {
      "text/plain": [
       "[]"
      ]
     },
     "execution_count": 8,
     "metadata": {},
     "output_type": "execute_result"
    }
   ],
   "source": [
    "%%sql\n",
    "\n",
    "DROP TABLE IF EXISTS Stations;\n",
    "\n",
    "CREATE TABLE Stations (\n",
    "    Station_ID     INTEGER NOT NULL PRIMARY KEY,\n",
    "    Station_Name   CHAR(100) NOT NULL,\n",
    "    Capacity       VARCHAR(4)\n",
    "); "
   ]
  },
  {
   "cell_type": "code",
   "execution_count": 9,
   "metadata": {},
   "outputs": [
    {
     "name": "stdout",
     "output_type": "stream",
     "text": [
      " * postgresql://student@/proj2\n",
      "Done.\n",
      "Done.\n"
     ]
    },
    {
     "data": {
      "text/plain": [
       "[]"
      ]
     },
     "execution_count": 9,
     "metadata": {},
     "output_type": "execute_result"
    }
   ],
   "source": [
    "%%sql\n",
    "\n",
    "DROP TABLE IF EXISTS Bikes;\n",
    "\n",
    "CREATE TABLE Bikes (\n",
    "    Bike_ID                CHAR(10) NOT NULL PRIMARY KEY,\n",
    "    Availability           VARCHAR(20) CHECK (availability in ('serviceable','disable','check out') ) ,\n",
    "    Dorked_Station_ID      INTEGER REFERENCES Stations(Station_ID)\n",
    "); "
   ]
  },
  {
   "cell_type": "code",
   "execution_count": 10,
   "metadata": {},
   "outputs": [
    {
     "name": "stdout",
     "output_type": "stream",
     "text": [
      " * postgresql://student@/proj2\n",
      "Done.\n",
      "Done.\n"
     ]
    },
    {
     "data": {
      "text/plain": [
       "[]"
      ]
     },
     "execution_count": 10,
     "metadata": {},
     "output_type": "execute_result"
    }
   ],
   "source": [
    "%%sql\n",
    "DROP TABLE IF EXISTS Rides;\n",
    "\n",
    "CREATE TABLE Rides (\n",
    "    Ride_ID             INTEGER NOT NULL PRIMARY KEY,\n",
    "    Bike_ID             CHAR(10) NOT NULL ,\n",
    "    Start_Station_ID    INTEGER NOT NULL REFERENCES Stations(Station_ID),\n",
    "    Key_ID              INTEGER NOT NULL REFERENCES Memberships(Key_ID),\n",
    "    Start_Time          Timestamp NOT NULL\n",
    "); "
   ]
  },
  {
   "cell_type": "markdown",
   "metadata": {},
   "source": [
    "### Fill the tables with data"
   ]
  },
  {
   "cell_type": "code",
   "execution_count": 11,
   "metadata": {},
   "outputs": [
    {
     "data": {
      "text/plain": [
       "'/home/ubuntu/Class 5/Project 2'"
      ]
     },
     "execution_count": 11,
     "metadata": {},
     "output_type": "execute_result"
    }
   ],
   "source": [
    "pwd!"
   ]
  },
  {
   "cell_type": "markdown",
   "metadata": {},
   "source": [
    "__Temporary Table__"
   ]
  },
  {
   "cell_type": "code",
   "execution_count": 12,
   "metadata": {},
   "outputs": [
    {
     "name": "stdout",
     "output_type": "stream",
     "text": [
      " * postgresql://student@/proj2\n",
      "Done.\n",
      "Done.\n"
     ]
    },
    {
     "data": {
      "text/plain": [
       "[]"
      ]
     },
     "execution_count": 12,
     "metadata": {},
     "output_type": "execute_result"
    }
   ],
   "source": [
    "%%sql\n",
    "DROP TABLE IF EXISTS temp;\n",
    "\n",
    "CREATE TABLE temp (\n",
    "    bike_id VARCHAR(21),\n",
    "    status VARCHAR(1),\n",
    "    station_id INTEGER,\n",
    "    station_name VARCHAR(64),\n",
    "    capacity INTEGER\n",
    ");"
   ]
  },
  {
   "cell_type": "code",
   "execution_count": 13,
   "metadata": {},
   "outputs": [
    {
     "name": "stdout",
     "output_type": "stream",
     "text": [
      " * postgresql://student@/proj2\n",
      "4317 rows affected.\n"
     ]
    },
    {
     "data": {
      "text/plain": [
       "[]"
      ]
     },
     "execution_count": 13,
     "metadata": {},
     "output_type": "execute_result"
    }
   ],
   "source": [
    "%%sql\n",
    "COPY temp FROM '/home/ubuntu/Class 5/Project 2/file.csv'\n",
    "CSV\n",
    "HEADER;"
   ]
  },
  {
   "cell_type": "markdown",
   "metadata": {},
   "source": [
    "__Stations__"
   ]
  },
  {
   "cell_type": "code",
   "execution_count": 14,
   "metadata": {},
   "outputs": [
    {
     "name": "stdout",
     "output_type": "stream",
     "text": [
      " * postgresql://student@/proj2\n",
      "452 rows affected.\n"
     ]
    },
    {
     "data": {
      "text/plain": [
       "[]"
      ]
     },
     "execution_count": 14,
     "metadata": {},
     "output_type": "execute_result"
    }
   ],
   "source": [
    "%%sql\n",
    "COPY Stations FROM '/home/ubuntu/Class 5/Project 2/station.csv'\n",
    "CSV\n",
    "HEADER;"
   ]
  },
  {
   "cell_type": "code",
   "execution_count": 15,
   "metadata": {},
   "outputs": [
    {
     "name": "stdout",
     "output_type": "stream",
     "text": [
      " * postgresql://student@/proj2\n",
      "5 rows affected.\n"
     ]
    },
    {
     "data": {
      "text/html": [
       "<table>\n",
       "    <tr>\n",
       "        <th>station_id</th>\n",
       "        <th>station_name</th>\n",
       "        <th>capacity</th>\n",
       "    </tr>\n",
       "    <tr>\n",
       "        <td>32011</td>\n",
       "        <td>Maple &amp; Ritchie Ave                                                                                 </td>\n",
       "        <td>28</td>\n",
       "    </tr>\n",
       "    <tr>\n",
       "        <td>31246</td>\n",
       "        <td>M St &amp; Pennsylvania Ave NW                                                                          </td>\n",
       "        <td>10</td>\n",
       "    </tr>\n",
       "    <tr>\n",
       "        <td>31408</td>\n",
       "        <td>Takoma Metro                                                                                        </td>\n",
       "        <td>12</td>\n",
       "    </tr>\n",
       "    <tr>\n",
       "        <td>31309</td>\n",
       "        <td>Fessenden St &amp; Wisconsin Ave NW                                                                     </td>\n",
       "        <td>8</td>\n",
       "    </tr>\n",
       "    <tr>\n",
       "        <td>31125</td>\n",
       "        <td>15th &amp; W St NW                                                                                      </td>\n",
       "        <td>24</td>\n",
       "    </tr>\n",
       "</table>"
      ],
      "text/plain": [
       "[(32011, 'Maple & Ritchie Ave                                                                                 ', '28'),\n",
       " (31246, 'M St & Pennsylvania Ave NW                                                                          ', '10'),\n",
       " (31408, 'Takoma Metro                                                                                        ', '12'),\n",
       " (31309, 'Fessenden St & Wisconsin Ave NW                                                                     ', '8'),\n",
       " (31125, '15th & W St NW                                                                                      ', '24')]"
      ]
     },
     "execution_count": 15,
     "metadata": {},
     "output_type": "execute_result"
    }
   ],
   "source": [
    "%%sql\n",
    "SELECT * \n",
    "FROM Stations\n",
    "LIMIT 5;"
   ]
  },
  {
   "cell_type": "markdown",
   "metadata": {},
   "source": [
    "__Members__"
   ]
  },
  {
   "cell_type": "code",
   "execution_count": 16,
   "metadata": {},
   "outputs": [
    {
     "name": "stdout",
     "output_type": "stream",
     "text": [
      " * postgresql://student@/proj2\n",
      "10 rows affected.\n"
     ]
    },
    {
     "data": {
      "text/plain": [
       "[]"
      ]
     },
     "execution_count": 16,
     "metadata": {},
     "output_type": "execute_result"
    }
   ],
   "source": [
    "%%sql\n",
    "COPY Members FROM '/home/ubuntu/Class 5/Project 2/Members.csv'\n",
    "CSV\n",
    "HEADER;"
   ]
  },
  {
   "cell_type": "code",
   "execution_count": 17,
   "metadata": {},
   "outputs": [
    {
     "name": "stdout",
     "output_type": "stream",
     "text": [
      " * postgresql://student@/proj2\n",
      "10 rows affected.\n"
     ]
    },
    {
     "data": {
      "text/html": [
       "<table>\n",
       "    <tr>\n",
       "        <th>ssn</th>\n",
       "        <th>name</th>\n",
       "        <th>address</th>\n",
       "    </tr>\n",
       "    <tr>\n",
       "        <td>579052106</td>\n",
       "        <td>Annmarie Aaron</td>\n",
       "        <td>4233 Fairfax Dr</td>\n",
       "    </tr>\n",
       "    <tr>\n",
       "        <td>577228101</td>\n",
       "        <td>Brandy Bennett</td>\n",
       "        <td>1100 Wilson Blvd</td>\n",
       "    </tr>\n",
       "    <tr>\n",
       "        <td>577428570</td>\n",
       "        <td>Cameron Cooper</td>\n",
       "        <td>301 Water St SE</td>\n",
       "    </tr>\n",
       "    <tr>\n",
       "        <td>579842899</td>\n",
       "        <td>Daina Devine</td>\n",
       "        <td>1300 Constitution Ave NW</td>\n",
       "    </tr>\n",
       "    <tr>\n",
       "        <td>579721097</td>\n",
       "        <td>Earleen Ernst</td>\n",
       "        <td>4212 East Capitol St NE</td>\n",
       "    </tr>\n",
       "    <tr>\n",
       "        <td>577928610</td>\n",
       "        <td>Fernanda Forrest</td>\n",
       "        <td>3700 O St NW</td>\n",
       "    </tr>\n",
       "    <tr>\n",
       "        <td>577039958</td>\n",
       "        <td>Jane Lee</td>\n",
       "        <td>0 MORGAN AVE</td>\n",
       "    </tr>\n",
       "    <tr>\n",
       "        <td>578926274</td>\n",
       "        <td>David Potter</td>\n",
       "        <td>120 BROAD MEADOW RD</td>\n",
       "    </tr>\n",
       "    <tr>\n",
       "        <td>578788989</td>\n",
       "        <td>Lily Zhang</td>\n",
       "        <td>PO BOX 217</td>\n",
       "    </tr>\n",
       "    <tr>\n",
       "        <td>577371597</td>\n",
       "        <td>Jack Jones</td>\n",
       "        <td>196 LINCOLN ST</td>\n",
       "    </tr>\n",
       "</table>"
      ],
      "text/plain": [
       "[('579052106', 'Annmarie Aaron', '4233 Fairfax Dr'),\n",
       " ('577228101', 'Brandy Bennett', '1100 Wilson Blvd'),\n",
       " ('577428570', 'Cameron Cooper', '301 Water St SE'),\n",
       " ('579842899', 'Daina Devine', '1300 Constitution Ave NW'),\n",
       " ('579721097', 'Earleen Ernst', '4212 East Capitol St NE'),\n",
       " ('577928610', 'Fernanda Forrest', '3700 O St NW'),\n",
       " ('577039958', 'Jane Lee', '0 MORGAN AVE'),\n",
       " ('578926274', 'David Potter', '120 BROAD MEADOW RD'),\n",
       " ('578788989', 'Lily Zhang', 'PO BOX 217'),\n",
       " ('577371597', 'Jack Jones', '196 LINCOLN ST')]"
      ]
     },
     "execution_count": 17,
     "metadata": {},
     "output_type": "execute_result"
    }
   ],
   "source": [
    "%%sql\n",
    "SELECT * \n",
    "FROM Members;"
   ]
  },
  {
   "cell_type": "markdown",
   "metadata": {},
   "source": [
    "__Memberships__"
   ]
  },
  {
   "cell_type": "code",
   "execution_count": 18,
   "metadata": {},
   "outputs": [
    {
     "name": "stdout",
     "output_type": "stream",
     "text": [
      " * postgresql://student@/proj2\n",
      "10 rows affected.\n"
     ]
    },
    {
     "data": {
      "text/plain": [
       "[]"
      ]
     },
     "execution_count": 18,
     "metadata": {},
     "output_type": "execute_result"
    }
   ],
   "source": [
    "%%sql\n",
    "COPY Memberships FROM '/home/ubuntu/Class 5/Project 2/memberships.csv'\n",
    "CSV\n",
    "HEADER;"
   ]
  },
  {
   "cell_type": "code",
   "execution_count": 19,
   "metadata": {},
   "outputs": [
    {
     "name": "stdout",
     "output_type": "stream",
     "text": [
      " * postgresql://student@/proj2\n",
      "10 rows affected.\n"
     ]
    },
    {
     "data": {
      "text/html": [
       "<table>\n",
       "    <tr>\n",
       "        <th>key_id</th>\n",
       "        <th>ssn</th>\n",
       "        <th>type</th>\n",
       "        <th>status</th>\n",
       "        <th>start_date</th>\n",
       "        <th>end_date</th>\n",
       "    </tr>\n",
       "    <tr>\n",
       "        <td>1</td>\n",
       "        <td>579052106</td>\n",
       "        <td>annual</td>\n",
       "        <td>inactive  </td>\n",
       "        <td>2016-10-01</td>\n",
       "        <td>2017-10-01</td>\n",
       "    </tr>\n",
       "    <tr>\n",
       "        <td>2</td>\n",
       "        <td>577228101</td>\n",
       "        <td>semiannual</td>\n",
       "        <td>inactive  </td>\n",
       "        <td>2017-04-02</td>\n",
       "        <td>2017-10-02</td>\n",
       "    </tr>\n",
       "    <tr>\n",
       "        <td>3</td>\n",
       "        <td>577428570</td>\n",
       "        <td>monthly</td>\n",
       "        <td>inactive  </td>\n",
       "        <td>2017-06-03</td>\n",
       "        <td>2017-07-03</td>\n",
       "    </tr>\n",
       "    <tr>\n",
       "        <td>4</td>\n",
       "        <td>579842899</td>\n",
       "        <td>semiannual</td>\n",
       "        <td>inactive  </td>\n",
       "        <td>2017-06-04</td>\n",
       "        <td>2017-12-04</td>\n",
       "    </tr>\n",
       "    <tr>\n",
       "        <td>5</td>\n",
       "        <td>579721097</td>\n",
       "        <td>semiannual</td>\n",
       "        <td>active    </td>\n",
       "        <td>2018-09-05</td>\n",
       "        <td>2019-03-05</td>\n",
       "    </tr>\n",
       "    <tr>\n",
       "        <td>6</td>\n",
       "        <td>577928610</td>\n",
       "        <td>monthly</td>\n",
       "        <td>active    </td>\n",
       "        <td>2018-10-06</td>\n",
       "        <td>2018-11-06</td>\n",
       "    </tr>\n",
       "    <tr>\n",
       "        <td>7</td>\n",
       "        <td>577039958</td>\n",
       "        <td>annual</td>\n",
       "        <td>active    </td>\n",
       "        <td>2018-10-07</td>\n",
       "        <td>2019-10-07</td>\n",
       "    </tr>\n",
       "    <tr>\n",
       "        <td>8</td>\n",
       "        <td>578926274</td>\n",
       "        <td>monthly</td>\n",
       "        <td>active    </td>\n",
       "        <td>2018-10-07</td>\n",
       "        <td>2018-11-07</td>\n",
       "    </tr>\n",
       "    <tr>\n",
       "        <td>9</td>\n",
       "        <td>578788989</td>\n",
       "        <td>semiannual</td>\n",
       "        <td>active    </td>\n",
       "        <td>2018-10-09</td>\n",
       "        <td>2019-04-09</td>\n",
       "    </tr>\n",
       "    <tr>\n",
       "        <td>10</td>\n",
       "        <td>577371597</td>\n",
       "        <td>annual</td>\n",
       "        <td>active    </td>\n",
       "        <td>2017-10-10</td>\n",
       "        <td>2018-10-10</td>\n",
       "    </tr>\n",
       "</table>"
      ],
      "text/plain": [
       "[(1, '579052106', 'annual', 'inactive  ', datetime.date(2016, 10, 1), datetime.date(2017, 10, 1)),\n",
       " (2, '577228101', 'semiannual', 'inactive  ', datetime.date(2017, 4, 2), datetime.date(2017, 10, 2)),\n",
       " (3, '577428570', 'monthly', 'inactive  ', datetime.date(2017, 6, 3), datetime.date(2017, 7, 3)),\n",
       " (4, '579842899', 'semiannual', 'inactive  ', datetime.date(2017, 6, 4), datetime.date(2017, 12, 4)),\n",
       " (5, '579721097', 'semiannual', 'active    ', datetime.date(2018, 9, 5), datetime.date(2019, 3, 5)),\n",
       " (6, '577928610', 'monthly', 'active    ', datetime.date(2018, 10, 6), datetime.date(2018, 11, 6)),\n",
       " (7, '577039958', 'annual', 'active    ', datetime.date(2018, 10, 7), datetime.date(2019, 10, 7)),\n",
       " (8, '578926274', 'monthly', 'active    ', datetime.date(2018, 10, 7), datetime.date(2018, 11, 7)),\n",
       " (9, '578788989', 'semiannual', 'active    ', datetime.date(2018, 10, 9), datetime.date(2019, 4, 9)),\n",
       " (10, '577371597', 'annual', 'active    ', datetime.date(2017, 10, 10), datetime.date(2018, 10, 10))]"
      ]
     },
     "execution_count": 19,
     "metadata": {},
     "output_type": "execute_result"
    }
   ],
   "source": [
    "%%sql\n",
    "SELECT * \n",
    "FROM Memberships;"
   ]
  },
  {
   "cell_type": "code",
   "execution_count": 20,
   "metadata": {},
   "outputs": [
    {
     "name": "stdout",
     "output_type": "stream",
     "text": [
      " * postgresql://student@/proj2\n",
      "4298 rows affected.\n"
     ]
    },
    {
     "data": {
      "text/plain": [
       "[]"
      ]
     },
     "execution_count": 20,
     "metadata": {},
     "output_type": "execute_result"
    }
   ],
   "source": [
    "%%sql\n",
    "COPY Bikes FROM '/home/ubuntu/Class 5/Project 2/bike.csv'\n",
    "CSV\n",
    "HEADER;"
   ]
  },
  {
   "cell_type": "code",
   "execution_count": 22,
   "metadata": {},
   "outputs": [
    {
     "name": "stdout",
     "output_type": "stream",
     "text": [
      " * postgresql://student@/proj2\n",
      "5 rows affected.\n"
     ]
    },
    {
     "data": {
      "text/html": [
       "<table>\n",
       "    <tr>\n",
       "        <th>bike_id</th>\n",
       "        <th>availability</th>\n",
       "        <th>dorked_station_id</th>\n",
       "    </tr>\n",
       "    <tr>\n",
       "        <td>W00001    </td>\n",
       "        <td>serviceable</td>\n",
       "        <td>31301</td>\n",
       "    </tr>\n",
       "    <tr>\n",
       "        <td>W00005    </td>\n",
       "        <td>serviceable</td>\n",
       "        <td>32011</td>\n",
       "    </tr>\n",
       "    <tr>\n",
       "        <td>W00007    </td>\n",
       "        <td>serviceable</td>\n",
       "        <td>31508</td>\n",
       "    </tr>\n",
       "    <tr>\n",
       "        <td>W00009    </td>\n",
       "        <td>serviceable</td>\n",
       "        <td>31912</td>\n",
       "    </tr>\n",
       "    <tr>\n",
       "        <td>W00010    </td>\n",
       "        <td>serviceable</td>\n",
       "        <td>31249</td>\n",
       "    </tr>\n",
       "</table>"
      ],
      "text/plain": [
       "[('W00001    ', 'serviceable', 31301),\n",
       " ('W00005    ', 'serviceable', 32011),\n",
       " ('W00007    ', 'serviceable', 31508),\n",
       " ('W00009    ', 'serviceable', 31912),\n",
       " ('W00010    ', 'serviceable', 31249)]"
      ]
     },
     "execution_count": 22,
     "metadata": {},
     "output_type": "execute_result"
    }
   ],
   "source": [
    "%%sql\n",
    "SELECT * \n",
    "FROM Bikes\n",
    "LIMIT 5;"
   ]
  },
  {
   "cell_type": "code",
   "execution_count": null,
   "metadata": {},
   "outputs": [],
   "source": []
  }
 ],
 "metadata": {
  "kernelspec": {
   "display_name": "Python 3",
   "language": "python",
   "name": "python3"
  },
  "language_info": {
   "codemirror_mode": {
    "name": "ipython",
    "version": 3
   },
   "file_extension": ".py",
   "mimetype": "text/x-python",
   "name": "python",
   "nbconvert_exporter": "python",
   "pygments_lexer": "ipython3",
   "version": "3.6.5"
  }
 },
 "nbformat": 4,
 "nbformat_minor": 2
}
