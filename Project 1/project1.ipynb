{
 "cells": [
  {
   "cell_type": "markdown",
   "metadata": {},
   "source": [
    "# Project 1\n",
    "\n",
    "\n",
    "## Group 19"
   ]
  },
  {
   "cell_type": "markdown",
   "metadata": {},
   "source": [
    "#### Problem 1 Part A"
   ]
  },
  {
   "cell_type": "code",
   "execution_count": 1,
   "metadata": {},
   "outputs": [
    {
     "name": "stdout",
     "output_type": "stream",
     "text": [
      "--2018-09-24 04:21:17--  https://s3.amazonaws.com/2018-dmfa/project-1/hound.txt\n",
      "Resolving s3.amazonaws.com (s3.amazonaws.com)... 52.216.99.45\n",
      "Connecting to s3.amazonaws.com (s3.amazonaws.com)|52.216.99.45|:443... connected.\n",
      "HTTP request sent, awaiting response... 200 OK\n",
      "Length: 345659 (338K) [text/plain]\n",
      "Saving to: ‘hound.txt’\n",
      "\n",
      "hound.txt           100%[===================>] 337.56K  --.-KB/s    in 0.01s   \n",
      "\n",
      "2018-09-24 04:21:17 (32.0 MB/s) - ‘hound.txt’ saved [345659/345659]\n",
      "\n"
     ]
    }
   ],
   "source": [
    "!wget https://s3.amazonaws.com/2018-dmfa/project-1/hound.txt"
   ]
  },
  {
   "cell_type": "code",
   "execution_count": 2,
   "metadata": {},
   "outputs": [
    {
     "name": "stdout",
     "output_type": "stream",
     "text": [
      "191\n"
     ]
    }
   ],
   "source": [
    "!grep -oE Holmes hound.txt | wc -w"
   ]
  },
  {
   "cell_type": "code",
   "execution_count": 3,
   "metadata": {},
   "outputs": [
    {
     "name": "stdout",
     "output_type": "stream",
     "text": [
      "114\n"
     ]
    }
   ],
   "source": [
    "!grep -oE Watson hound.txt | wc -w"
   ]
  },
  {
   "cell_type": "code",
   "execution_count": 4,
   "metadata": {},
   "outputs": [
    {
     "name": "stdout",
     "output_type": "stream",
     "text": [
      "79\n"
     ]
    }
   ],
   "source": [
    "!grep -oE Barrymore hound.txt | wc -w"
   ]
  },
  {
   "cell_type": "code",
   "execution_count": 5,
   "metadata": {},
   "outputs": [
    {
     "name": "stdout",
     "output_type": "stream",
     "text": [
      "91\n"
     ]
    }
   ],
   "source": [
    "!grep -oE Mortimer hound.txt | wc -w"
   ]
  },
  {
   "cell_type": "markdown",
   "metadata": {},
   "source": [
    "#### Problem 1 Part B"
   ]
  },
  {
   "cell_type": "code",
   "execution_count": 6,
   "metadata": {},
   "outputs": [
    {
     "name": "stdout",
     "output_type": "stream",
     "text": [
      "--2018-09-24 04:27:21--  https://s3.amazonaws.com/2018-dmfa/project-1/hamlet.txt\n",
      "Resolving s3.amazonaws.com (s3.amazonaws.com)... 52.216.102.101\n",
      "Connecting to s3.amazonaws.com (s3.amazonaws.com)|52.216.102.101|:443... connected.\n",
      "HTTP request sent, awaiting response... 200 OK\n",
      "Length: 204885 (200K) [text/plain]\n",
      "Saving to: ‘hamlet.txt’\n",
      "\n",
      "hamlet.txt          100%[===================>] 200.08K  --.-KB/s    in 0.006s  \n",
      "\n",
      "2018-09-24 04:27:21 (33.8 MB/s) - ‘hamlet.txt’ saved [204885/204885]\n",
      "\n"
     ]
    }
   ],
   "source": [
    "!wget https://s3.amazonaws.com/2018-dmfa/project-1/hamlet.txt"
   ]
  },
  {
   "cell_type": "code",
   "execution_count": 7,
   "metadata": {},
   "outputs": [
    {
     "name": "stdout",
     "output_type": "stream",
     "text": [
      "358\n"
     ]
    }
   ],
   "source": [
    "!grep '^HAMLET\\.' hamlet.txt | wc -l"
   ]
  },
  {
   "cell_type": "code",
   "execution_count": 8,
   "metadata": {},
   "outputs": [
    {
     "name": "stdout",
     "output_type": "stream",
     "text": [
      "86\n"
     ]
    }
   ],
   "source": [
    "!grep '^POLONIUS\\.' hamlet.txt | wc -l"
   ]
  },
  {
   "cell_type": "code",
   "execution_count": 9,
   "metadata": {},
   "outputs": [
    {
     "name": "stdout",
     "output_type": "stream",
     "text": [
      "58\n"
     ]
    }
   ],
   "source": [
    "!grep '^OPHELIA\\.' hamlet.txt | wc -l"
   ]
  },
  {
   "cell_type": "code",
   "execution_count": 10,
   "metadata": {},
   "outputs": [
    {
     "name": "stdout",
     "output_type": "stream",
     "text": [
      "107\n"
     ]
    }
   ],
   "source": [
    "!grep '^HORATIO\\.' hamlet.txt | wc -l"
   ]
  },
  {
   "cell_type": "markdown",
   "metadata": {},
   "source": [
    "#### Problem 2 Part A"
   ]
  },
  {
   "cell_type": "code",
   "execution_count": 11,
   "metadata": {},
   "outputs": [
    {
     "name": "stdout",
     "output_type": "stream",
     "text": [
      "--2018-09-24 04:27:51--  https://s3.amazonaws.com/2018-dmfa/project-1/2018-capitalbikeshare-tripdata.zip\n",
      "Resolving s3.amazonaws.com (s3.amazonaws.com)... 52.216.106.109\n",
      "Connecting to s3.amazonaws.com (s3.amazonaws.com)|52.216.106.109|:443... connected.\n",
      "HTTP request sent, awaiting response... 200 OK\n",
      "Length: 18365732 (18M) [application/zip]\n",
      "Saving to: ‘2018-capitalbikeshare-tripdata.zip’\n",
      "\n",
      "2018-capitalbikesha 100%[===================>]  17.51M  37.5MB/s    in 0.5s    \n",
      "\n",
      "2018-09-24 04:27:51 (37.5 MB/s) - ‘2018-capitalbikeshare-tripdata.zip’ saved [18365732/18365732]\n",
      "\n"
     ]
    }
   ],
   "source": [
    "!wget https://s3.amazonaws.com/2018-dmfa/project-1/2018-capitalbikeshare-tripdata.zip"
   ]
  },
  {
   "cell_type": "code",
   "execution_count": 12,
   "metadata": {},
   "outputs": [
    {
     "name": "stdout",
     "output_type": "stream",
     "text": [
      "Archive:  2018-capitalbikeshare-tripdata.zip\n",
      "  inflating: 201807-capitalbikeshare-tripdata.csv  \n",
      "  inflating: 201808-capitalbikeshare-tripdata.csv  \n"
     ]
    }
   ],
   "source": [
    "!unzip 2018-capitalbikeshare-tripdata.zip"
   ]
  },
  {
   "cell_type": "code",
   "execution_count": 13,
   "metadata": {},
   "outputs": [],
   "source": [
    "!csvstack 201807-capitalbikeshare-tripdata.csv 201808-capitalbikeshare-tripdata.csv > combinedfile.csv"
   ]
  },
  {
   "cell_type": "code",
   "execution_count": 14,
   "metadata": {},
   "outputs": [
    {
     "name": "stdout",
     "output_type": "stream",
     "text": [
      "  1: Duration\n",
      "  2: Start date\n",
      "  3: End date\n",
      "  4: Start station number\n",
      "  5: Start station\n",
      "  6: End station number\n",
      "  7: End station\n",
      "  8: Bike number\n",
      "  9: Member type\n"
     ]
    }
   ],
   "source": [
    "!csvcut -n combinedfile.csv"
   ]
  },
  {
   "cell_type": "code",
   "execution_count": 15,
   "metadata": {},
   "outputs": [
    {
     "name": "stdout",
     "output_type": "stream",
     "text": [
      "|          Start date |            End date | Start station                  | End station number |\n",
      "| ------------------- | ------------------- | ------------------------------ | ------------------ |\n",
      "| 2018-07-01 00:00:58 | 2018-07-01 00:05:26 | 8th & Eye St SE / Barracks Row |             31,610 |\n",
      "| 2018-07-01 00:01:00 | 2018-07-01 00:09:50 | Metro Center / 12th & G St NW  |             31,266 |\n",
      "| 2018-07-01 00:01:07 | 2018-07-01 00:54:50 | 5th & F St NW                  |             31,289 |\n",
      "| 2018-07-01 00:01:13 | 2018-07-01 00:37:06 | Lincoln Memorial               |             31,208 |\n",
      "| 2018-07-01 00:01:13 | 2018-07-01 00:54:47 | 5th & F St NW                  |             31,289 |\n",
      "| 2018-07-01 00:01:14 | 2018-07-01 01:05:00 | USDA / 12th & C St SW          |             31,222 |\n",
      "| 2018-07-01 00:01:16 | 2018-07-01 00:27:41 | 5th St & Massachusetts Ave NW  |             31,520 |\n",
      "| 2018-07-01 00:01:25 | 2018-07-01 00:39:30 | Lincoln Memorial               |             31,209 |\n",
      "| 2018-07-01 00:01:45 | 2018-07-01 00:14:08 | Maine Ave & 7th St SW          |             31,228 |\n"
     ]
    }
   ],
   "source": [
    "!head combinedfile.csv | csvcut -c2-3,5-6 | csvlook"
   ]
  },
  {
   "cell_type": "markdown",
   "metadata": {},
   "source": [
    "The 10 most popular departing stations in July and August 2018 are following:"
   ]
  },
  {
   "cell_type": "code",
   "execution_count": 16,
   "metadata": {},
   "outputs": [
    {
     "name": "stdout",
     "output_type": "stream",
     "text": [
      "  15473 Lincoln Memorial\n",
      "  13082 Columbus Circle / Union Station\n",
      "  11999 Jefferson Dr & 14th St SW\n",
      "  11671 Henry Bacon Dr & Lincoln Memorial Circle NW\n",
      "  11650 4th St & Madison Dr NW\n",
      "  10357 Smithsonian-National Mall / Jefferson Dr & 12th St SW\n",
      "   9554 Jefferson Memorial\n",
      "   8620 17th St & Independence Ave SW\n",
      "   8583 Massachusetts Ave & Dupont Circle NW\n",
      "   8569 15th & P St NW\n"
     ]
    }
   ],
   "source": [
    "!csvgrep -c2 -r '2018-07|2018-08' combinedfile.csv | csvgrep -c3 -r '2018-07|2018-08' | csvcut -c5 | sort | uniq -c | sort -rn | head "
   ]
  },
  {
   "cell_type": "markdown",
   "metadata": {},
   "source": [
    "The 10 most popular destination stations in July and Aguest 2018 are following:"
   ]
  },
  {
   "cell_type": "code",
   "execution_count": 17,
   "metadata": {},
   "outputs": [
    {
     "name": "stdout",
     "output_type": "stream",
     "text": [
      "  15639 Lincoln Memorial\n",
      "  13635 Columbus Circle / Union Station\n",
      "  12134 Jefferson Dr & 14th St SW\n",
      "  11720 Henry Bacon Dr & Lincoln Memorial Circle NW\n",
      "  11555 4th St & Madison Dr NW\n",
      "  10693 Smithsonian-National Mall / Jefferson Dr & 12th St SW\n",
      "   9866 Jefferson Memorial\n",
      "   9141 Massachusetts Ave & Dupont Circle NW\n",
      "   8884 15th & P St NW\n",
      "   8640 17th St & Independence Ave SW\n"
     ]
    }
   ],
   "source": [
    "!csvgrep -c2 -r '2018-07|2018-08' combinedfile.csv | csvgrep -c3 -r '2018-07|2018-08' | csvcut -c7 | sort | uniq -c | sort -rn | head "
   ]
  },
  {
   "cell_type": "markdown",
   "metadata": {},
   "source": [
    "#### Problem 2 Part B"
   ]
  },
  {
   "cell_type": "code",
   "execution_count": 18,
   "metadata": {},
   "outputs": [
    {
     "name": "stdout",
     "output_type": "stream",
     "text": [
      "  15474 31258\n"
     ]
    }
   ],
   "source": [
    "!csvcut -c 4 combinedfile.csv | sort | uniq -c | sort -rn | head -1"
   ]
  },
  {
   "cell_type": "markdown",
   "metadata": {},
   "source": [
    "For the most popular departure station, the most used 10 bikes are following:"
   ]
  },
  {
   "cell_type": "code",
   "execution_count": 19,
   "metadata": {},
   "outputs": [
    {
     "name": "stdout",
     "output_type": "stream",
     "text": [
      "     18 W01311\n",
      "     17 W22553\n",
      "     16 W00919\n",
      "     15 W23074\n",
      "     15 W22567\n",
      "     15 W21882\n",
      "     15 W20527\n",
      "     14 W23311\n",
      "     14 W23003\n",
      "     14 W22369\n",
      "sort: write failed: 'standard output': Broken pipe\n",
      "sort: write error\n"
     ]
    }
   ],
   "source": [
    "!csvgrep -c4 -m 31258 combinedfile.csv | csvcut -c8 | sort | uniq -c | sort -rn | head"
   ]
  },
  {
   "cell_type": "markdown",
   "metadata": {},
   "source": [
    "For the most popular destination station, the most used 10 bikes are following:"
   ]
  },
  {
   "cell_type": "code",
   "execution_count": 20,
   "metadata": {},
   "outputs": [
    {
     "name": "stdout",
     "output_type": "stream",
     "text": [
      "  15642 31258\n"
     ]
    }
   ],
   "source": [
    "!csvcut -c 6 combinedfile.csv | sort | uniq -c | sort -rn | head -1"
   ]
  },
  {
   "cell_type": "code",
   "execution_count": 21,
   "metadata": {},
   "outputs": [
    {
     "name": "stdout",
     "output_type": "stream",
     "text": [
      "     17 W22553\n",
      "     17 W01311\n",
      "     16 W21882\n",
      "     16 W20527\n",
      "     16 W00919\n",
      "     15 W22567\n",
      "     15 W22369\n",
      "     14 W23311\n",
      "     14 W23074\n",
      "     14 W23003\n",
      "sort: write failed: 'standard output': Broken pipe\n",
      "sort: write error\n"
     ]
    }
   ],
   "source": [
    "!csvgrep -c6 -m 31258 combinedfile.csv | csvcut -c8 | sort | uniq -c | sort -rn | head"
   ]
  },
  {
   "cell_type": "markdown",
   "metadata": {},
   "source": [
    "#### Problem 3 Part A"
   ]
  },
  {
   "cell_type": "code",
   "execution_count": 22,
   "metadata": {},
   "outputs": [
    {
     "name": "stdout",
     "output_type": "stream",
     "text": [
      "--2018-09-24 04:32:08--  https://s3.amazonaws.com/2018-dmfa/project-1/simplefilter.R\n",
      "Resolving s3.amazonaws.com (s3.amazonaws.com)... 52.216.65.11\n",
      "Connecting to s3.amazonaws.com (s3.amazonaws.com)|52.216.65.11|:443... connected.\n",
      "HTTP request sent, awaiting response... 200 OK\n",
      "Length: 244 [binary/octet-stream]\n",
      "Saving to: ‘simplefilter.R’\n",
      "\n",
      "simplefilter.R      100%[===================>]     244  --.-KB/s    in 0s      \n",
      "\n",
      "2018-09-24 04:32:08 (11.8 MB/s) - ‘simplefilter.R’ saved [244/244]\n",
      "\n"
     ]
    }
   ],
   "source": [
    "!wget https://s3.amazonaws.com/2018-dmfa/project-1/simplefilter.R"
   ]
  },
  {
   "cell_type": "code",
   "execution_count": 23,
   "metadata": {},
   "outputs": [
    {
     "name": "stdout",
     "output_type": "stream",
     "text": [
      "   3515 the\n",
      "   1716 of\n",
      "   1696 and\n",
      "   1488 to\n",
      "   1159 that\n",
      "   1025 it\n",
      "    968 in\n",
      "    922 he\n",
      "    904 you\n",
      "    804 was\n",
      "sort: write failed: 'standard output': Broken pipe\n",
      "sort: write error\n"
     ]
    }
   ],
   "source": [
    "!grep -oE '\\w{{2,}}' hound.txt | tr '[:upper:]' '[:lower:]' | sort | uniq -c | sort -rn | head"
   ]
  },
  {
   "cell_type": "code",
   "execution_count": 24,
   "metadata": {},
   "outputs": [],
   "source": [
    "!cp simplefilter.R lower.R"
   ]
  },
  {
   "cell_type": "code",
   "execution_count": 25,
   "metadata": {},
   "outputs": [],
   "source": [
    "!chmod +x lower.R"
   ]
  },
  {
   "cell_type": "code",
   "execution_count": 26,
   "metadata": {},
   "outputs": [
    {
     "name": "stdout",
     "output_type": "stream",
     "text": [
      "project gutenberg’s the hound of the baskervilles, by a. conan doyle\n",
      "\n",
      "this ebook is for the use of anyone anywhere at no cost and with\n",
      "almost no restrictions whatsoever.  you may copy it, give it away or\n",
      "re-use it under the terms of the project gutenberg license included\n",
      "with this ebook or online at www.gutenberg.org\n",
      "\n",
      "\n",
      "title: the hound of the baskervilles\n",
      "\n"
     ]
    }
   ],
   "source": [
    "!head hound.txt | ./lower.R"
   ]
  },
  {
   "cell_type": "code",
   "execution_count": 27,
   "metadata": {},
   "outputs": [
    {
     "name": "stdout",
     "output_type": "stream",
     "text": [
      "   3515 the\n",
      "   1716 of\n",
      "   1696 and\n",
      "   1488 to\n",
      "   1159 that\n",
      "   1025 it\n",
      "    968 in\n",
      "    922 he\n",
      "    904 you\n",
      "    804 was\n",
      "sort: write failed: 'standard output': Broken pipe\n",
      "sort: write error\n"
     ]
    }
   ],
   "source": [
    "!grep -oE '\\w{{2,}}' hound.txt | ./lower.R | sort | uniq -c | sort -rn | head"
   ]
  },
  {
   "cell_type": "markdown",
   "metadata": {},
   "source": [
    "#### Problem 3 Part B"
   ]
  },
  {
   "cell_type": "code",
   "execution_count": 28,
   "metadata": {},
   "outputs": [],
   "source": [
    "!cp simplefilter.R removestopwords.R"
   ]
  },
  {
   "cell_type": "code",
   "execution_count": 29,
   "metadata": {},
   "outputs": [],
   "source": [
    "!chmod +x removestopwords.R"
   ]
  },
  {
   "cell_type": "markdown",
   "metadata": {},
   "source": [
    "The 10 stop words I chose:\n",
    "    to,\n",
    "    that,\n",
    "    it,\n",
    "    you,\n",
    "    was,\n",
    "    against,\n",
    "    all,\n",
    "    am,\n",
    "    an,\n",
    "    and."
   ]
  },
  {
   "cell_type": "code",
   "execution_count": 30,
   "metadata": {},
   "outputs": [
    {
     "name": "stdout",
     "output_type": "stream",
     "text": [
      "   7645 \n",
      "   3515 the\n",
      "   1716 of\n",
      "    968 in\n",
      "    922 he\n",
      "    692 his\n",
      "    651 is\n",
      "    547 have\n",
      "    506 had\n",
      "    488 with\n",
      "sort: write failed: 'standard output': Broken pipe\n",
      "sort: write error\n"
     ]
    }
   ],
   "source": [
    "!grep -oE '\\w{{2,}}' hound.txt | ./lower.R | ./removestopwords.R | sort | uniq -c | sort -rn | head"
   ]
  }
 ],
 "metadata": {
  "kernelspec": {
   "display_name": "Python 3",
   "language": "python",
   "name": "python3"
  },
  "language_info": {
   "codemirror_mode": {
    "name": "ipython",
    "version": 3
   },
   "file_extension": ".py",
   "mimetype": "text/x-python",
   "name": "python",
   "nbconvert_exporter": "python",
   "pygments_lexer": "ipython3",
   "version": "3.5.3"
  }
 },
 "nbformat": 4,
 "nbformat_minor": 2
}
